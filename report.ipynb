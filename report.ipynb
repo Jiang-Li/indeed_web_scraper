{
 "cells": [
  {
   "cell_type": "code",
   "execution_count": 100,
   "metadata": {},
   "outputs": [
    {
     "data": {
      "text/html": [
       "<script>\n",
       "code_show=true; \n",
       "function code_toggle() {\n",
       " if (code_show){\n",
       " $('div.input').hide();\n",
       " } else {\n",
       " $('div.input').show();\n",
       " }\n",
       " code_show = !code_show\n",
       "} \n",
       "$( document ).ready(code_toggle);\n",
       "</script>\n",
       "<form action=\"javascript:code_toggle()\"><input type=\"submit\" value=\"Click here to toggle on/off the raw code.\"></form>"
      ],
      "text/plain": [
       "<IPython.core.display.HTML object>"
      ]
     },
     "execution_count": 100,
     "metadata": {},
     "output_type": "execute_result"
    }
   ],
   "source": [
    "from IPython.display import HTML\n",
    "\n",
    "HTML('''<script>\n",
    "code_show=true; \n",
    "function code_toggle() {\n",
    " if (code_show){\n",
    " $('div.input').hide();\n",
    " } else {\n",
    " $('div.input').show();\n",
    " }\n",
    " code_show = !code_show\n",
    "} \n",
    "$( document ).ready(code_toggle);\n",
    "</script>\n",
    "<form action=\"javascript:code_toggle()\"><input type=\"submit\" value=\"Click here to toggle on/off the raw code.\"></form>''')"
   ]
  },
  {
   "cell_type": "markdown",
   "metadata": {},
   "source": [
    "## Why the number of rows in 10_13 and 09_29 is different?\n",
    "\n",
    "Is 500 a cap in the code?"
   ]
  },
  {
   "cell_type": "code",
   "execution_count": 2,
   "metadata": {},
   "outputs": [],
   "source": [
    "#read in datesets from source file\n",
    "# source_filename = datetime.now().strftime(\"%m_%d_%Y\") + \".pkl\"\n",
    "import pandas as pd"
   ]
  },
  {
   "cell_type": "code",
   "execution_count": 6,
   "metadata": {},
   "outputs": [
    {
     "data": {
      "text/plain": [
       "(147, 7)"
      ]
     },
     "execution_count": 6,
     "metadata": {},
     "output_type": "execute_result"
    }
   ],
   "source": [
    "b = pd.read_pickle(\"10_13_2020.pkl\")\n",
    "b.shape"
   ]
  },
  {
   "cell_type": "code",
   "execution_count": 7,
   "metadata": {},
   "outputs": [
    {
     "data": {
      "text/plain": [
       "(500, 7)"
      ]
     },
     "execution_count": 7,
     "metadata": {},
     "output_type": "execute_result"
    }
   ],
   "source": [
    "b = pd.read_pickle(\"09_29_2020.pkl\")\n",
    "b.shape"
   ]
  },
  {
   "cell_type": "markdown",
   "metadata": {},
   "source": [
    "## Compse a report in the Notebook\n",
    "\n",
    "The CRoss Industry Standard Process for Data Mining (CRISP-DM) is a process model with six phases that naturally describes the data science life cycle. It’s like a set of guardrails to help you plan, organize, and implement your data science project.\n",
    "\n",
    "![title](https://www.datascience-pm.com/wp-content/uploads/2018/09/crisp-dm-wikicommons.jpg?raw=true)"
   ]
  },
  {
   "cell_type": "markdown",
   "metadata": {},
   "source": [
    "## Data Preparation"
   ]
  },
  {
   "cell_type": "code",
   "execution_count": 109,
   "metadata": {},
   "outputs": [],
   "source": [
    "from selenium.webdriver.common.by import By\n",
    "from selenium import webdriver\n",
    "from selenium.webdriver.common.keys import Keys\n",
    "from selenium.webdriver.support.ui import WebDriverWait\n",
    "from selenium.webdriver.support import expected_conditions as EC\n",
    "import numpy as np\n",
    "import pandas as pd\n",
    "import math\n",
    "from datetime import datetime, timedelta\n",
    "import pickle\n",
    "import re\n",
    "\n",
    "# b = pd.read_pickle(\"09_29_2020.pkl\")\n",
    "# # print(b)\n",
    "# b.head()"
   ]
  },
  {
   "cell_type": "code",
   "execution_count": null,
   "metadata": {},
   "outputs": [],
   "source": [
    "# read and combine all the raw data here\n"
   ]
  },
  {
   "cell_type": "code",
   "execution_count": 103,
   "metadata": {},
   "outputs": [],
   "source": [
    "#Add indicators R, SAS, excel, python, sql\n",
    "# df = pd.DataFrame(b)\n",
    "\n",
    "# df = pd.read_pickle(\"09_29_2020.pkl\")\n",
    "\n",
    "df['SAS'] = np.where(df['Description'].str.contains(' SAS'), True,False)\n",
    "df['python'] = np.where(df['Description'].str.contains(' python', flags=re.IGNORECASE), True,False)\n",
    "df['SQL'] = np.where(df['Description'].str.contains(' sql', flags=re.IGNORECASE), True, False)\n",
    "df['R'] = np.where(df['Description'].str.contains(' R '), True, False) # add \" R,\" \n",
    "df['excel'] = np.where(df['Description'].str.contains(' excel', flags=re.IGNORECASE), True, False)"
   ]
  },
  {
   "cell_type": "code",
   "execution_count": 104,
   "metadata": {},
   "outputs": [],
   "source": [
    "#output result with indicators to new pickle file\n",
    "# filename = datetime.now().strftime(\"%m_%d_%Y\") + \"_with_indicators.pkl\"\n",
    "# b.to_pickle(filename)\n",
    "\n",
    "# As the data set is small, it is not necessary to save the data with indicators.\n",
    "# Let's only save all the original data and and the combined data."
   ]
  },
  {
   "cell_type": "code",
   "execution_count": 105,
   "metadata": {},
   "outputs": [],
   "source": [
    "#create appearence freqency percentage chart\n",
    "df_da = pd.DataFrame()\n",
    "df_da['sas_percentage'] = df['SAS'].value_counts(normalize=True) * 100 \n",
    "df_da['python_percentage'] = df['python'].value_counts(normalize=True) * 100 \n",
    "df_da['excel_percentage'] = df['excel'].value_counts(normalize=True) * 100 \n",
    "df_da['R_percentage'] = df['R'].value_counts(normalize=True) * 100 \n",
    "df_da['sql_percentage'] = df['SQL'].value_counts(normalize=True) * 100 "
   ]
  },
  {
   "cell_type": "code",
   "execution_count": 106,
   "metadata": {},
   "outputs": [
    {
     "data": {
      "text/html": [
       "<div>\n",
       "<style scoped>\n",
       "    .dataframe tbody tr th:only-of-type {\n",
       "        vertical-align: middle;\n",
       "    }\n",
       "\n",
       "    .dataframe tbody tr th {\n",
       "        vertical-align: top;\n",
       "    }\n",
       "\n",
       "    .dataframe thead th {\n",
       "        text-align: right;\n",
       "    }\n",
       "</style>\n",
       "<table border=\"1\" class=\"dataframe\">\n",
       "  <thead>\n",
       "    <tr style=\"text-align: right;\">\n",
       "      <th></th>\n",
       "      <th>sas_percentage</th>\n",
       "      <th>python_percentage</th>\n",
       "      <th>excel_percentage</th>\n",
       "      <th>R_percentage</th>\n",
       "      <th>sql_percentage</th>\n",
       "    </tr>\n",
       "  </thead>\n",
       "  <tbody>\n",
       "    <tr>\n",
       "      <th>False</th>\n",
       "      <td>95.8</td>\n",
       "      <td>91.0</td>\n",
       "      <td>52.8</td>\n",
       "      <td>98.6</td>\n",
       "      <td>79.6</td>\n",
       "    </tr>\n",
       "    <tr>\n",
       "      <th>True</th>\n",
       "      <td>4.2</td>\n",
       "      <td>9.0</td>\n",
       "      <td>47.2</td>\n",
       "      <td>1.4</td>\n",
       "      <td>20.4</td>\n",
       "    </tr>\n",
       "  </tbody>\n",
       "</table>\n",
       "</div>"
      ],
      "text/plain": [
       "       sas_percentage  python_percentage  excel_percentage  R_percentage  \\\n",
       "False            95.8               91.0              52.8          98.6   \n",
       "True              4.2                9.0              47.2           1.4   \n",
       "\n",
       "       sql_percentage  \n",
       "False            79.6  \n",
       "True             20.4  "
      ]
     },
     "execution_count": 106,
     "metadata": {},
     "output_type": "execute_result"
    }
   ],
   "source": [
    "df_da"
   ]
  },
  {
   "cell_type": "code",
   "execution_count": 107,
   "metadata": {},
   "outputs": [
    {
     "data": {
      "text/plain": [
       "194    FBAlliance Insurance Company is seeking an analyst or senior analyst with P&C pricing experience to join our Analytics & Product Management Team. In this position, you would help develop new product pricing, formulate changes to current product pricing, and other data analysis as needed.\\nAbout FBAlliance Insurance\\nFBAlliance is a new P&C insurance company, backed with $71.5 million in funding from nine Farm Bureau insurance companies. Our vision is to be a multi-state, multi-line, financially strong insurance company that provides innovative products and services based on sophisticated underwriting and pricing.\\nWe are doing this by building a responsive, customer-focused, digital organization. Our personal lines property products are in five states and expanding. We are developing a digital platform that will spur the creation of new and emerging products for rapid entry into new markets. We leverage several third-party relationships and InsureTech companies to surround our small team with a very big source of insurance and technology expertise. We use sophisticated predictive and catastrophe models to develop product pricing and utilize insightful data to underwrite risks. We are 100% cloud, so you do not have to wait endlessly to get the computing resources you need to get your job done.\\nWe seek creative individuals to apply their insurance expertise, but also work collaboratively across the organization to develop great products and services for our customers. Your ability to deliver will depend on how well you can tap into the knowledge of experienced individuals within the organization, learn from innovation taking place in the insurance industry, and mix that with your own expertise and creativity.\\nThe company encourages a work culture of personal responsibility, camaraderie, creativity, and flexibility. We offer paid study time and exam support.\\nPrimary Responsibilities\\nComplete rate level indications, class plan analyses, competitor research, benchmarking analyses, and other projects for property and casualty lines of business.\\nWork with product management, underwriting and other functions to prepare rate recommendations, filings and obtain regulatory approvals.\\nAssist in predictive modelling using GLM and non-linear methods, and tools such as Emblem, R or similar programming languages that support rate analyses.\\nCompile and validate data, perform statistical analysis, summarize results and present to stakeholders.\\nCreate and update rating tools and ensure accuracy of rating engines in core insurance systems.\\nKeep up-to-date on competitor developments and adjust product pricing as necessary.\\nKey Skills and Qualifications\\nAt least 3 years of personal lines pricing experience and 2 or more exams toward ACAS designation.\\nStrong research, statistical, analytical, processing and mathematical skills with ability to structure and conduct analysis.\\nSuperior communication skills, friendly demeanor, and an exceptional ability to work collaboratively with individuals across all business functions.\\nAbility to manage and deliver multiple projects concurrently\\nAdept at bringing creative insurance product ideas to solve new problems and emerging risks\\nFamiliarity with predictive modeling using GLM and non-linear methods\\nAdvanced skills in SQL and Excel with knowledge of spreadsheets functionality including VBA, vlookup, pivot tables, and macros.\\nExperience with statistical analysis tools, such as R, Python, or SAS will be a huge plus.\\nGeneral understanding of insurance company operations.\\nNote: Applicants with an ACAS designation may be considered for higher level positions.\\nLocation\\nFBAlliance has offices in Schaumburg, Illinois and Bloomington, Illinois. Telecommuting will be an option.\\nRecruiters:\\nAt this time we are not accepting candidates from recruiters for this position.\\nJob Type: Full-time\\nBenefits:\\n401(k) matching\\nDental insurance\\nFlexible schedule\\nFlexible spending account\\nHealth insurance\\nVision insurance\\nSchedule:\\nMonday to Friday\\nWork Location:\\nFully Remote\\nCompany's website:\\nhttp://fballianceins.com/\n",
       "263                                                                                                                                                                                                                                                                                                                                                                                                                                                                                                                                                                                                                                                                                                                                                                                                   The Position:\\nThe Data Visualization team partners with nearly every corner of the company, and, as an Analyst on the team, you’ll own the communication of various metrics within our business. As a part of this effort, there are a several values and analytical questions that guide the team’s thinking:\\n\\n1. Metric Design - Are the metrics we’re looking at a good reflection of what the business cares about?\\n2. Accuracy - Are the chosen metrics calculated accurately?\\n3. Completion - Are all major topics and areas of the business covered by the suite of dashboards?\\n4. Reliability - Are dashboards always up to date?\\n5. Organization - Do users know where to go to find the canonical answer about any arbitrary high-level topic?\\n6. Distribution - Are dashboards delivered on some reasonable cadence to the right stakeholders?\\n7. Segmentation - Does each dashboard allow filtering and measuring by the most critical dimensions?\\n8. Usability - Do users understand how to read the dashboards & use the tools available?\\n9. Beauty - Is it a joy to look at and use these tools?\\n\\nTo answer these questions, we work closely with Product teams to develop a suite of metrics, exploratory analyses, tools, and dashboards; all supported by robust data pipelines that scale with the needs of the business.\\nWhat you'll be doing:\\nTranslates ad-hoc requests into re-usable data products that scale to answer larger questions\\nPartners with stakeholders to help guide and understand their analytical thought process\\nDevelops robust data visualization products that clearly communicate ideas\\nDefines and owns metrics that capture the spirit of business objectives as closely as possible\\nIdentifies potential product improvements and quantifies upsides of possible features\\nDesigns and evaluates experiments to test the success of product features\\nWorks with engineers and other analysts to maintain the consistency and reliability of the data warehouse\\nBoils technical findings down into business recommendations\\nWorks with product managers, engineers, designers, and other analysts to drive business results\\nMentor other analysts on design, presentation, & data visualization tool usage\\nWho we're looking for:\\nBachelor’s or Master’s degree, preferably in a quantitative field\\n3+ years of analytics or data science experience in a business environment\\nDemonstrable experience teaching or explaining technical results or concepts to less technical audiences\\nExperience writing & validating complex SQL queries\\nAdvanced knowledge of Tableau or other business intelligence tools (QlikSense, Power BI)\\nKnowledge of d3.js & other javascript charting libraries is a plus\\nKnowledge of experimental design & has the ability to apply statistical concepts to business problems\\nExperience using a scripting language like Python or R for analysis\\nExperience gathering requirements and talking to users\\nFamiliarity with basic design concepts & common dashboard development patterns\\nProven ability to execute on projects quickly; get things done mentality\\nUnabashed question asker; willing to learn anything needed to get things done\\nGet in touch\\nFinding the right people to help us build Root is a top priority. Whether you would like to explore the possibility of working together or simply learn more about the position, we’d love to hear from you!\n",
       "310                                                                                                                                                                                                                                                                                                                                                                                                                                                                                                                                                                                                                                                                                                                                                                                                                                                                                                                                                                                                                                                                                                                                                                                                                                                                                                                                                                                                                                                                                                                                                                                                                                                                                                                                                                                                                                                                                                                                                                                                                                                                                                                                                                                                    Job Description\\n\\n\\n\\nPrevious Job\\nNext Job\\n\\n\\nJob Details\\n\\n\\nJob Title\\nGenetic Data Analyst\\nJob ID\\n460690\\n\\nLocation\\n\\nCollege of Medicine\\n\\n\\nFull/Part Time\\nFull-Time\\n\\nDepartment\\nHuman Genetics\\n\\nShift\\nVaries\\n\\nRegular/Temporary\\nRegular\\nFTE %\\n100.00\\n\\nSalary Range Min\\n$56810.00\\nSalary Range Max\\n$85215.00\\n\\n\\nJob Description\\nGenetic Data Analyst (Job Opening 460690) - Functions as a Genetic Data Analyst within the Division of Human Genetics within the Department of Internal Medicine. Uses the Division of Human Genetics Data Management Platform and high-performance computing resources at the Ohio Supercomputer Center to execute research-related queries and prepare large and complex phenotypic and genomic data sets for analysis; performs standard biostatistical analyses under the direction of supervisor; analyzes genetic and genomic data via variant filtering, parametric or nonparametric linkage, complex segregation or family- or population-based association under the direction of supervisor; utilizes Git, literate programming (e.g., R Sweave) and other techniques to document data provenance and analysis steps to ensure reproducibility; uses issue- and time-tracking systems to document work progress; summarizes and presents data analysis to Division faculty and staff; collaborates with Division faculty and staff on manuscripts.\\n\\nEducation and Experience\\nBachelor's degree in biostatistics, statistics, or a similar field with relevant mathematical training or equivalent combination of education and experience required; minimum 3 years? experience programming in high-level languages (Perl, Python, SQL, R, Bash shell), querying and summarizing data, performing statistical analysis, or a combination thereof; experience using statistical and genetic data analysis software (e.g., R, SAS, PLINK) preferred. Requires successful completion of a background check. Selected candidate may be requested to complete a pre-employment physical including a drug screen.\n",
       "429                                                                                                                                                                                                                                                                                                                                                                                                                                                                                                                                                                                                                                                                                                                                                                                                                                                                                                                                                                                                                                                                                                                                                                                                                                                                                                                                                                                                                                                                                                                                                                                                                                                                                                                                                                                                                                                                                                                                                                                                                                                                                                                                                                                                                                                                                                                                                                                                                                       The role.\\nAs a Growth Marketing Analyst, you will own measurement and analysis for a digital marketing channel. In this role, you'll create compelling stories, drive strategies, uncover new opportunities, and provide recommendations required to define Root’s growth strategy.\\nWhat you'll be doing.\\nConduct various types of analyses to enhance marketing efficiency and provide actionable recommendations to key stakeholders\\nBuild dashboards, reports, and alert systems for the ongoing analysis and monitoring of marketing campaigns and activities\\nDesign and launch experiments, determine campaign targeting strategies, and develop category-specific KPIs, forecasts, and goals\\nSupport Root’s Marketing Analytics Manager in attribution, measurement, incrementality, and data integrity\\nAssist in data management, governance, attribution rules, and data quality with other functional data owners to ensure data integrity across different departments\\nPerform ad hoc analysis to support the senior leadership team and proactively conduct investigations when abnormalities are identified\\nWhat we're looking for.\\nBachelor’s degree, preferably in Statistics, Economics, Mathematics, or another business-related field\\n1+ years of work experience in analytics\\nAnalytical mindset; proficient in R or Python preferred but not required\\nPossess basic skills in SQL\\nProficient in Tableau, Mode, or other data visualization tools\\nExperience with experiment design and A/B test analysis across multiple KPIs\\nSuperior teamwork, communication, and problem-solving skills\\nGet in touch\\nFinding the right people to help us build Root is a top priority. Whether you would like to explore the possibility of working together or simply learn more about the position, we’d love to hear from you!\n",
       "435                                                                                                                                                                                                                                                                                                                                                                                                                                                                                                                                                                                                                                                                                                                                                                                                                                                                                                                                                                                                                                                                                                                                                                                                                                                                                                                                                                                                                                                                                                                                                                                                                                                                                                                                                                                                                                                                                                                                                                                                                                                                                                                                                                                                                               The Role.\\nAs a Senior Growth Marketing Analyst, you will own measurement and analysis for a digital marketing channel. In this role, you'll create compelling stories, drive strategies, uncover new opportunities, and provide recommendations required to define Root’s growth strategy.\\nWhat you'll be doing.\\nConduct various types of analyses to enhance marketing efficiency and provide actionable recommendations to key stakeholders\\nBuild dashboards, reports, and alert systems for the ongoing analysis and monitoring of marketing campaigns and activities\\nDesign and launch experiments, determine campaign targeting strategies, and develop category-specific KPIs, forecasts, and goals\\nSupport Root’s Marketing Analytics Manager in attribution, measurement, incrementality, and data integrity\\nAssist in data management, governance, attribution rules, and data quality with other functional data owners to ensure data integrity across different departments\\nPerform ad hoc analysis to support the senior leadership team and proactively conduct investigations when abnormalities are identified\\nMentor and develop junior analysts\\nWhat we're looking for.\\nBachelor’s degree, preferably in Statistics, Economics, Mathematics, or another business-related field\\n3+ years of work experience in analytics\\nPrevious experience supporting digital marketing is preferred but not required\\nAdvanced skills in SQL with the ability to write complex and optimized queries to extract\\nProficient in Tableau, Mode, or other data visualization tools data from our data warehouse\\nExperience with experiment design and A/B test analysis across multiple KPIs\\nProficiency with R or Python is preferred but not required\\nSuperior teamwork, communication, and problem-solving skills\\nGet in touch\\nFinding the right people to help us build Root is a top priority. Whether you would like to explore the possibility of working together or simply learn more about the position, we’d love to hear from you!\n",
       "479                                                                                                                                                                                                                                                                                                                                                                                                                                                                                                                                                                                                                                                                                                                                                                                                                                                                                                                                                                                                                                                                                                                                                                                                                                                                                                                                                                                                                                                                                                                                                                                                                                                                                                                                                                                                                                                                                                                                                                                                                                                                                                                                                                                                                                                                                                                                                                                                                                       The role.\\nAs a Growth Marketing Analyst, you will own measurement and analysis for a digital marketing channel. In this role, you'll create compelling stories, drive strategies, uncover new opportunities, and provide recommendations required to define Root’s growth strategy.\\nWhat you'll be doing.\\nConduct various types of analyses to enhance marketing efficiency and provide actionable recommendations to key stakeholders\\nBuild dashboards, reports, and alert systems for the ongoing analysis and monitoring of marketing campaigns and activities\\nDesign and launch experiments, determine campaign targeting strategies, and develop category-specific KPIs, forecasts, and goals\\nSupport Root’s Marketing Analytics Manager in attribution, measurement, incrementality, and data integrity\\nAssist in data management, governance, attribution rules, and data quality with other functional data owners to ensure data integrity across different departments\\nPerform ad hoc analysis to support the senior leadership team and proactively conduct investigations when abnormalities are identified\\nWhat we're looking for.\\nBachelor’s degree, preferably in Statistics, Economics, Mathematics, or another business-related field\\n1+ years of work experience in analytics\\nAnalytical mindset; proficient in R or Python preferred but not required\\nPossess basic skills in SQL\\nProficient in Tableau, Mode, or other data visualization tools\\nExperience with experiment design and A/B test analysis across multiple KPIs\\nSuperior teamwork, communication, and problem-solving skills\\nGet in touch\\nFinding the right people to help us build Root is a top priority. Whether you would like to explore the possibility of working together or simply learn more about the position, we’d love to hear from you!\n",
       "485                                                                                                                                                                                                                                                                                                                                                                                                                                                                                                                                                                                                                                                                                                                                                                                                                                                                                                                                                                                                                                                                                                                                                                                                                                                                                                                                                                                                                                                                                                                                                                                                                                                                                                                                                                                                                                                                                                                                                                                                                                                                                                                                                                                                                               The Role.\\nAs a Senior Growth Marketing Analyst, you will own measurement and analysis for a digital marketing channel. In this role, you'll create compelling stories, drive strategies, uncover new opportunities, and provide recommendations required to define Root’s growth strategy.\\nWhat you'll be doing.\\nConduct various types of analyses to enhance marketing efficiency and provide actionable recommendations to key stakeholders\\nBuild dashboards, reports, and alert systems for the ongoing analysis and monitoring of marketing campaigns and activities\\nDesign and launch experiments, determine campaign targeting strategies, and develop category-specific KPIs, forecasts, and goals\\nSupport Root’s Marketing Analytics Manager in attribution, measurement, incrementality, and data integrity\\nAssist in data management, governance, attribution rules, and data quality with other functional data owners to ensure data integrity across different departments\\nPerform ad hoc analysis to support the senior leadership team and proactively conduct investigations when abnormalities are identified\\nMentor and develop junior analysts\\nWhat we're looking for.\\nBachelor’s degree, preferably in Statistics, Economics, Mathematics, or another business-related field\\n3+ years of work experience in analytics\\nPrevious experience supporting digital marketing is preferred but not required\\nAdvanced skills in SQL with the ability to write complex and optimized queries to extract\\nProficient in Tableau, Mode, or other data visualization tools data from our data warehouse\\nExperience with experiment design and A/B test analysis across multiple KPIs\\nProficiency with R or Python is preferred but not required\\nSuperior teamwork, communication, and problem-solving skills\\nGet in touch\\nFinding the right people to help us build Root is a top priority. Whether you would like to explore the possibility of working together or simply learn more about the position, we’d love to hear from you!\n",
       "Name: Description, dtype: object"
      ]
     },
     "execution_count": 107,
     "metadata": {},
     "output_type": "execute_result"
    }
   ],
   "source": [
    "# sampel check\n",
    "\n",
    "pd.set_option('display.max_colwidth', None)\n",
    "\n",
    "df[df.R].Description.head(10)"
   ]
  },
  {
   "cell_type": "markdown",
   "metadata": {},
   "source": [
    "## Next\n",
    "\n",
    "1. The percent of R is small. Improve the filter of R?\n",
    "2. Save all the raw data in /data foder\n",
    "3. Compose a report; plot the chart using seaborn"
   ]
  },
  {
   "cell_type": "markdown",
   "metadata": {},
   "source": [
    "# Title\n",
    "## level 2\n",
    "\n",
    "1. aaa\n",
    "2. bbb\n",
    "\n",
    "[aaa](url)"
   ]
  },
  {
   "cell_type": "code",
   "execution_count": 101,
   "metadata": {},
   "outputs": [
    {
     "data": {
      "text/plain": [
       "Business Analyst                                         14\n",
       "Financial Analyst                                        12\n",
       "Buyer/Analyst Assc                                        6\n",
       "Cybersecurity Policy Analyst                              5\n",
       "Board Certified Behavior Analyst (BCBA)                   5\n",
       "                                                         ..\n",
       "Associate IT Analyst, SQL Developer                       1\n",
       "Sr Analyst, Brand Strategy                                1\n",
       "Programmer Analyst                                        1\n",
       "Risk Management Analyst Lead - Iraq                       1\n",
       "Business Systems Analyst, Product Engineering Systems     1\n",
       "Name: Title, Length: 384, dtype: int64"
      ]
     },
     "execution_count": 101,
     "metadata": {},
     "output_type": "execute_result"
    }
   ],
   "source": [
    "df.Title.value_counts()"
   ]
  },
  {
   "cell_type": "code",
   "execution_count": 94,
   "metadata": {},
   "outputs": [
    {
     "data": {
      "text/plain": [
       "Data Analyst                                                       2\n",
       "Business Analyst and Scrum Master                                  1\n",
       "Corrections Data Analyst II                                        1\n",
       "Genetic Data Analyst                                               1\n",
       "Decision Analyst - Leads Management                                1\n",
       "Senior Analyst, Campaign Data Operations                           1\n",
       "Senior Financial Analyst - Central Forecasting Team                1\n",
       "Workforce Management Data Analyst--REMOTE                          1\n",
       "AML Modeling Analyst I                                             1\n",
       "Credit Card Quality Senior Analyst                                 1\n",
       "Data Analyst III (Claims, SQL, Healthcare)                         1\n",
       "Scrum Master / Business Analyst                                    1\n",
       "Real World Evidence Programmer Analyst/Manager/Asst Director...    1\n",
       "Actuarial Analyst/Senior Actuarial Analyst                         1\n",
       "Health Services Policy Analyst - PN 20013535                       1\n",
       "Senior Customer Marketing Analyst / Customer Insights              1\n",
       "B2B Segment Analyst                                                1\n",
       "Fraud Modeling Analyst Sr                                          1\n",
       "Analyst, Campaign Data Operations                                  1\n",
       "Data Analyst IV (Provider Analytics) (Healthcare Analytics)        1\n",
       "Name: Title, dtype: int64"
      ]
     },
     "execution_count": 94,
     "metadata": {},
     "output_type": "execute_result"
    }
   ],
   "source": [
    "df[df.SAS].Title.value_counts()"
   ]
  },
  {
   "cell_type": "code",
   "execution_count": 96,
   "metadata": {},
   "outputs": [
    {
     "data": {
      "text/plain": [
       "RPA Analyst                                        4\n",
       "Data Analyst                                       3\n",
       "Senior Growth Marketing Analyst                    2\n",
       "Business Analyst                                   2\n",
       "Data Statistics Analyst PFK - Care Coordination    2\n",
       "                                                  ..\n",
       "Data Analyst III (Claims, SQL, Healthcare)         1\n",
       "Senior Programmer Analyst (Programmer 5)           1\n",
       "AML Modeling Analyst I                             1\n",
       "Credit Card Quality Senior Analyst                 1\n",
       "Sr. Research App Dev Analyst - (459746)            1\n",
       "Name: Title, Length: 87, dtype: int64"
      ]
     },
     "execution_count": 96,
     "metadata": {},
     "output_type": "execute_result"
    }
   ],
   "source": [
    "df[df.SQL].Title.value_counts()"
   ]
  },
  {
   "cell_type": "code",
   "execution_count": 97,
   "metadata": {},
   "outputs": [
    {
     "data": {
      "text/plain": [
       "Data Analyst II                                                1\n",
       "Senior Data/Digital Analyst                                    1\n",
       "Workforce Management Data Analyst--REMOTE                      1\n",
       "Corrections Data Analyst II                                    1\n",
       "Business Data Analyst                                          1\n",
       "Genetic Data Analyst                                           1\n",
       "GQS Electronic Trading Analyst                                 1\n",
       "B2B Segment Analyst                                            1\n",
       "Actuarial Analyst, Auto & Renters Pricing                      1\n",
       "Actuarial Analyst/Senior Actuarial Analyst                     1\n",
       "Data Analyst III (Claims, SQL, Healthcare)                     1\n",
       "Data Analyst IV (Provider Analytics) (Healthcare Analytics)    1\n",
       "Name: Title, dtype: int64"
      ]
     },
     "execution_count": 97,
     "metadata": {},
     "output_type": "execute_result"
    }
   ],
   "source": [
    "df[df.R].Title.value_counts()"
   ]
  },
  {
   "cell_type": "code",
   "execution_count": 98,
   "metadata": {},
   "outputs": [
    {
     "data": {
      "text/plain": [
       "RPA Analyst                                                    4\n",
       "Data Analyst                                                   2\n",
       "Cybersecurity Incident Response Analyst - Senior               2\n",
       "Growth Marketing Analyst                                       2\n",
       "Senior Growth Marketing Analyst                                2\n",
       "Senior Analyst, Emerging Technology                            1\n",
       "IGM - Bioinformatics Analyst - Koboldt Lab                     1\n",
       "Mainframe z/OS Technology Engineer - Sr Analyst                1\n",
       "User Experience Business Analyst – UI/UX                       1\n",
       "AML Modeling Analyst I                                         1\n",
       "Data Analyst III (Claims, SQL, Healthcare)                     1\n",
       "GQS Electronic Trading Analyst                                 1\n",
       "Business Analyst, Ecommerce                                    1\n",
       "Senior Analyst, Data Analytics                                 1\n",
       "Corrections Data Analyst II                                    1\n",
       "Institutional Research Analyst                                 1\n",
       "Decision Analyst - Leads Management                            1\n",
       "Associate IT Analyst, Network Engineering                      1\n",
       "Senior Analyst, Cloud Directory Services                       1\n",
       "Data Analyst II                                                1\n",
       "Sr Analyst, Customer Marketing                                 1\n",
       "Actuarial Analyst, Auto & Renters Pricing                      1\n",
       "Sr Analyst, Information Security                               1\n",
       "Security Operations Analyst L2                                 1\n",
       "Data Analyst, Telematics                                       1\n",
       "Security Analyst                                               1\n",
       "B2B Segment Analyst                                            1\n",
       "Actuarial Analyst/Senior Actuarial Analyst                     1\n",
       "Data Analyst - University Graduate                             1\n",
       "Cybersecurity Analyst (Government)                             1\n",
       "Workforce Management Data Analyst--REMOTE                      1\n",
       "Data Analyst Intern                                            1\n",
       "Senior Data/Digital Analyst                                    1\n",
       "Senior Product Analyst, Data Visualization                     1\n",
       "Robotic Process Automation (RPA) Analyst I                     1\n",
       "Lead Systems Analyst                                           1\n",
       "Genetic Data Analyst                                           1\n",
       "Data Analyst IV (Provider Analytics) (Healthcare Analytics)    1\n",
       "Name: Title, dtype: int64"
      ]
     },
     "execution_count": 98,
     "metadata": {},
     "output_type": "execute_result"
    }
   ],
   "source": [
    "df[df.python].Title.value_counts()"
   ]
  },
  {
   "cell_type": "code",
   "execution_count": 99,
   "metadata": {},
   "outputs": [
    {
     "data": {
      "text/plain": [
       "Business Analyst                                                   9\n",
       "Financial Analyst                                                  8\n",
       "Analyst I, Analyst II, Senior Analyst, or Assistant Portfoli...    4\n",
       "BUSINESS ANALYST                                                   4\n",
       "Tax Analyst                                                        3\n",
       "                                                                  ..\n",
       "Benefits Administration Analyst                                    1\n",
       "Structured Pricing Risk Analyst                                    1\n",
       "Operations Analyst I                                               1\n",
       "Consultant: Senior Help Desk Analyst w/Salesforce Exp.             1\n",
       "Business Systems Analyst, Product Engineering Systems              1\n",
       "Name: Title, Length: 198, dtype: int64"
      ]
     },
     "execution_count": 99,
     "metadata": {},
     "output_type": "execute_result"
    }
   ],
   "source": [
    "df[df.excel].Title.value_counts()"
   ]
  },
  {
   "cell_type": "code",
   "execution_count": null,
   "metadata": {},
   "outputs": [],
   "source": []
  }
 ],
 "metadata": {
  "kernelspec": {
   "display_name": "Python 3",
   "language": "python",
   "name": "python3"
  },
  "language_info": {
   "codemirror_mode": {
    "name": "ipython",
    "version": 3
   },
   "file_extension": ".py",
   "mimetype": "text/x-python",
   "name": "python",
   "nbconvert_exporter": "python",
   "pygments_lexer": "ipython3",
   "version": "3.8.3"
  }
 },
 "cells": [],
 "metadata": {},
 "nbformat": 4,
 "nbformat_minor": 4
}