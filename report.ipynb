{
 "cells": [
  {
   "cell_type": "markdown",
   "metadata": {},
   "source": [
    "# DATA SCIENCE SKILL DEMAND ANALYSIS\n",
    "\n",
    "## 1. Business understanding\n",
    "\n",
    "The purpose of this project is to create data-informed action plans to improve existing courses/programs. The goal for this reseach project is to better understand the current trend of analytics skill demands in the job market. "
   ]
  },
  {
   "cell_type": "markdown",
   "metadata": {},
   "source": [
    "## 2. Data Understanding\n",
    "\n",
    "This program searches \"Analyst\" job posting data within Columbus from Indeed website. In future, this program can also be used to analyze for other job titles from Indeed website for further usage.\n",
    "\n",
    "Skills this reseach will practice are:\n",
    "- Data scrapping from Indeed website with keyword \"Analyst\" constrain\n",
    "- Data cleaning and analysis with pandas\n",
    "- Data visualization with matplotlib and seaborn\n",
    "- Result confidence interval with bootstrapping"
   ]
  },
  {
   "cell_type": "markdown",
   "metadata": {},
   "source": [
    "## 3. Data Preparation\n",
    "\n",
    "### 3.1. Web Scraping using Selenium\n",
    "\n",
    "A Web Scraper was built to pull all the relevant job information of \"analyst\" within the Columbus area from the job portal in Indeed.com. Pulled data indicates fields of Title, Company, Location, Link, Salary, Date, and Description. The scraper will automatically save its result to the feather file where its file name is the current date to the source folder. The scraper needs to run in every 15 days since the maximum result age is 15 days in Indeed for new job postings. These feather files in the source folder will then be used to analyze the trend of analytics computing skills. This program was built using selenium-python.\n"
   ]
  },
  {
   "cell_type": "code",
   "execution_count": 26,
   "metadata": {},
   "outputs": [
    {
     "data": {
      "text/plain": [
       "(171, 7)"
      ]
     },
     "execution_count": 26,
     "metadata": {},
     "output_type": "execute_result"
    }
   ],
   "source": [
    "import numpy as np\n",
    "import pandas as pd\n",
    "import math\n",
    "from datetime import datetime, timedelta\n",
    "import pickle\n",
    "import re\n",
    "\n",
    "# Show single source file size\n",
    "sample = pd.read_feather(\"/Users/huilingchen/Documents/GitHub/indeed_web_scraper/source/11_12_2020\")\n",
    "sample.shape"
   ]
  },
  {
   "cell_type": "markdown",
   "metadata": {},
   "source": [
    "### 3.2. Combine all feather file from source folder"
   ]
  },
  {
   "cell_type": "code",
   "execution_count": 27,
   "metadata": {},
   "outputs": [
    {
     "data": {
      "text/html": [
       "<div>\n",
       "<style scoped>\n",
       "    .dataframe tbody tr th:only-of-type {\n",
       "        vertical-align: middle;\n",
       "    }\n",
       "\n",
       "    .dataframe tbody tr th {\n",
       "        vertical-align: top;\n",
       "    }\n",
       "\n",
       "    .dataframe thead th {\n",
       "        text-align: right;\n",
       "    }\n",
       "</style>\n",
       "<table border=\"1\" class=\"dataframe\">\n",
       "  <thead>\n",
       "    <tr style=\"text-align: right;\">\n",
       "      <th></th>\n",
       "      <th>Title</th>\n",
       "      <th>Company</th>\n",
       "      <th>Location</th>\n",
       "      <th>Link</th>\n",
       "      <th>Salary</th>\n",
       "      <th>Date</th>\n",
       "      <th>Description</th>\n",
       "    </tr>\n",
       "  </thead>\n",
       "  <tbody>\n",
       "    <tr>\n",
       "      <th>1228</th>\n",
       "      <td>Revenue Cycle (IT) - Billing Interface Analyst</td>\n",
       "      <td>Radiology Partners</td>\n",
       "      <td>Columbus, OH</td>\n",
       "      <td>https://www.indeed.com/company/Radiology-Partn...</td>\n",
       "      <td>None</td>\n",
       "      <td>11/30/2020</td>\n",
       "      <td>PRACTICE OVERVIEW\\nRadiology Partners is the l...</td>\n",
       "    </tr>\n",
       "    <tr>\n",
       "      <th>1229</th>\n",
       "      <td>Senior Professional Programmer Analyst</td>\n",
       "      <td>Gainwell Technologies</td>\n",
       "      <td>Dublin, OH 43016</td>\n",
       "      <td>https://www.indeed.com/rc/clk?jk=6a1105634377a...</td>\n",
       "      <td>None</td>\n",
       "      <td>11/30/2020</td>\n",
       "      <td>Job Description:\\nEssential Job Functions\\nCod...</td>\n",
       "    </tr>\n",
       "    <tr>\n",
       "      <th>1230</th>\n",
       "      <td>Remote - Contract &amp; Billing Analyst I - US Cit...</td>\n",
       "      <td>Catapult</td>\n",
       "      <td>Columbus, OH</td>\n",
       "      <td>https://www.indeed.com/company/Catapult/jobs/R...</td>\n",
       "      <td>None</td>\n",
       "      <td>11/30/2020</td>\n",
       "      <td>Candidate is required to be a U.S. Citizen\\nEx...</td>\n",
       "    </tr>\n",
       "    <tr>\n",
       "      <th>1231</th>\n",
       "      <td>Business Analyst - IT Data Warehouse</td>\n",
       "      <td>Radiology Partners</td>\n",
       "      <td>Columbus, OH</td>\n",
       "      <td>https://www.indeed.com/company/Radiology-Partn...</td>\n",
       "      <td>None</td>\n",
       "      <td>11/30/2020</td>\n",
       "      <td>PRACTICE OVERVIEW\\nRadiology Partners is the l...</td>\n",
       "    </tr>\n",
       "    <tr>\n",
       "      <th>1232</th>\n",
       "      <td>Programmer Analyst Sr (Datastage Developer)</td>\n",
       "      <td>Huntington Bank</td>\n",
       "      <td>Columbus, OH</td>\n",
       "      <td>https://www.indeed.com/rc/clk?jk=43628ce3ba4b7...</td>\n",
       "      <td>None</td>\n",
       "      <td>11/30/2020</td>\n",
       "      <td>Description\\nThe Datastage Developer will be r...</td>\n",
       "    </tr>\n",
       "  </tbody>\n",
       "</table>\n",
       "</div>"
      ],
      "text/plain": [
       "                                                  Title  \\\n",
       "1228     Revenue Cycle (IT) - Billing Interface Analyst   \n",
       "1229             Senior Professional Programmer Analyst   \n",
       "1230  Remote - Contract & Billing Analyst I - US Cit...   \n",
       "1231               Business Analyst - IT Data Warehouse   \n",
       "1232        Programmer Analyst Sr (Datastage Developer)   \n",
       "\n",
       "                    Company          Location  \\\n",
       "1228     Radiology Partners      Columbus, OH   \n",
       "1229  Gainwell Technologies  Dublin, OH 43016   \n",
       "1230               Catapult      Columbus, OH   \n",
       "1231     Radiology Partners      Columbus, OH   \n",
       "1232        Huntington Bank      Columbus, OH   \n",
       "\n",
       "                                                   Link Salary        Date  \\\n",
       "1228  https://www.indeed.com/company/Radiology-Partn...   None  11/30/2020   \n",
       "1229  https://www.indeed.com/rc/clk?jk=6a1105634377a...   None  11/30/2020   \n",
       "1230  https://www.indeed.com/company/Catapult/jobs/R...   None  11/30/2020   \n",
       "1231  https://www.indeed.com/company/Radiology-Partn...   None  11/30/2020   \n",
       "1232  https://www.indeed.com/rc/clk?jk=43628ce3ba4b7...   None  11/30/2020   \n",
       "\n",
       "                                            Description  \n",
       "1228  PRACTICE OVERVIEW\\nRadiology Partners is the l...  \n",
       "1229  Job Description:\\nEssential Job Functions\\nCod...  \n",
       "1230  Candidate is required to be a U.S. Citizen\\nEx...  \n",
       "1231  PRACTICE OVERVIEW\\nRadiology Partners is the l...  \n",
       "1232  Description\\nThe Datastage Developer will be r...  "
      ]
     },
     "execution_count": 27,
     "metadata": {},
     "output_type": "execute_result"
    }
   ],
   "source": [
    "import os\n",
    "import glob\n",
    "\n",
    "dir_name = \"/Users/huilingchen/Documents/GitHub/indeed_web_scraper/source\"\n",
    "os.chdir(dir_name)\n",
    "\n",
    "all_filenames = [i for i in glob.glob('*')]\n",
    "combined_source = pd.concat([pd.read_feather(f) for f in all_filenames], ignore_index=True)\n",
    "combined_source = combined_source[combined_source.Description != 'None']\n",
    "combined_source.tail(5)\n"
   ]
  },
  {
   "cell_type": "markdown",
   "metadata": {},
   "source": [
    "### 3.3. Handling duplicate data"
   ]
  },
  {
   "cell_type": "code",
   "execution_count": 28,
   "metadata": {},
   "outputs": [
    {
     "data": {
      "text/plain": [
       "(1152, 7)"
      ]
     },
     "execution_count": 28,
     "metadata": {},
     "output_type": "execute_result"
    }
   ],
   "source": [
    "# Remove duplicate rows\n",
    "combined_source = combined_source[combined_source.Description != 'None']\n",
    "combined_source=combined_source.drop_duplicates(subset=['Title', 'Company', 'Date'], keep='last')\n",
    "combined_source.shape"
   ]
  },
  {
   "cell_type": "markdown",
   "metadata": {},
   "source": [
    "## 4. Data Modeling\n",
    "\n",
    "### 4.1. Specify tool usage indicator"
   ]
  },
  {
   "cell_type": "code",
   "execution_count": 29,
   "metadata": {},
   "outputs": [
    {
     "data": {
      "text/html": [
       "<div>\n",
       "<style scoped>\n",
       "    .dataframe tbody tr th:only-of-type {\n",
       "        vertical-align: middle;\n",
       "    }\n",
       "\n",
       "    .dataframe tbody tr th {\n",
       "        vertical-align: top;\n",
       "    }\n",
       "\n",
       "    .dataframe thead th {\n",
       "        text-align: right;\n",
       "    }\n",
       "</style>\n",
       "<table border=\"1\" class=\"dataframe\">\n",
       "  <thead>\n",
       "    <tr style=\"text-align: right;\">\n",
       "      <th></th>\n",
       "      <th>SAS</th>\n",
       "      <th>python</th>\n",
       "      <th>SQL</th>\n",
       "      <th>R</th>\n",
       "      <th>excel</th>\n",
       "    </tr>\n",
       "  </thead>\n",
       "  <tbody>\n",
       "    <tr>\n",
       "      <th>1147</th>\n",
       "      <td>False</td>\n",
       "      <td>False</td>\n",
       "      <td>False</td>\n",
       "      <td>False</td>\n",
       "      <td>True</td>\n",
       "    </tr>\n",
       "    <tr>\n",
       "      <th>1148</th>\n",
       "      <td>False</td>\n",
       "      <td>False</td>\n",
       "      <td>False</td>\n",
       "      <td>False</td>\n",
       "      <td>False</td>\n",
       "    </tr>\n",
       "    <tr>\n",
       "      <th>1149</th>\n",
       "      <td>False</td>\n",
       "      <td>False</td>\n",
       "      <td>False</td>\n",
       "      <td>False</td>\n",
       "      <td>True</td>\n",
       "    </tr>\n",
       "    <tr>\n",
       "      <th>1150</th>\n",
       "      <td>False</td>\n",
       "      <td>False</td>\n",
       "      <td>False</td>\n",
       "      <td>False</td>\n",
       "      <td>False</td>\n",
       "    </tr>\n",
       "    <tr>\n",
       "      <th>1151</th>\n",
       "      <td>False</td>\n",
       "      <td>False</td>\n",
       "      <td>True</td>\n",
       "      <td>False</td>\n",
       "      <td>False</td>\n",
       "    </tr>\n",
       "  </tbody>\n",
       "</table>\n",
       "</div>"
      ],
      "text/plain": [
       "        SAS  python    SQL      R  excel\n",
       "1147  False   False  False  False   True\n",
       "1148  False   False  False  False  False\n",
       "1149  False   False  False  False   True\n",
       "1150  False   False  False  False  False\n",
       "1151  False   False   True  False  False"
      ]
     },
     "execution_count": 29,
     "metadata": {},
     "output_type": "execute_result"
    }
   ],
   "source": [
    "df_indicator = pd.DataFrame()\n",
    "df_indicator['SAS'] = np.where(combined_source['Description'].str.contains('SAS'), True, False)\n",
    "df_indicator['python'] = np.where(combined_source['Description'].str.contains('python', flags=re.IGNORECASE),True, False)\n",
    "df_indicator['SQL'] = np.where(combined_source['Description'].str.contains('sql', flags=re.IGNORECASE),True, False)\n",
    "df_indicator['R'] = np.where(combined_source['Description'].str.contains(' R | R,|,R ', flags=re.IGNORECASE),True, False)\n",
    "df_indicator['excel'] = np.where(combined_source['Description'].str.contains('excel', flags=re.IGNORECASE),True, False)\n",
    "df_indicator.tail()"
   ]
  },
  {
   "cell_type": "markdown",
   "metadata": {},
   "source": [
    "### 4.2. Compose tool occurrence percentage table"
   ]
  },
  {
   "cell_type": "code",
   "execution_count": 30,
   "metadata": {},
   "outputs": [
    {
     "data": {
      "text/html": [
       "<div>\n",
       "<style scoped>\n",
       "    .dataframe tbody tr th:only-of-type {\n",
       "        vertical-align: middle;\n",
       "    }\n",
       "\n",
       "    .dataframe tbody tr th {\n",
       "        vertical-align: top;\n",
       "    }\n",
       "\n",
       "    .dataframe thead th {\n",
       "        text-align: right;\n",
       "    }\n",
       "</style>\n",
       "<table border=\"1\" class=\"dataframe\">\n",
       "  <thead>\n",
       "    <tr style=\"text-align: right;\">\n",
       "      <th></th>\n",
       "      <th>SAS</th>\n",
       "      <th>Python</th>\n",
       "      <th>Excel</th>\n",
       "      <th>R</th>\n",
       "      <th>SQL</th>\n",
       "    </tr>\n",
       "  </thead>\n",
       "  <tbody>\n",
       "    <tr>\n",
       "      <th>False</th>\n",
       "      <td>95.052083</td>\n",
       "      <td>92.447917</td>\n",
       "      <td>38.020833</td>\n",
       "      <td>96.006944</td>\n",
       "      <td>78.211806</td>\n",
       "    </tr>\n",
       "    <tr>\n",
       "      <th>True</th>\n",
       "      <td>4.947917</td>\n",
       "      <td>7.552083</td>\n",
       "      <td>61.979167</td>\n",
       "      <td>3.993056</td>\n",
       "      <td>21.788194</td>\n",
       "    </tr>\n",
       "  </tbody>\n",
       "</table>\n",
       "</div>"
      ],
      "text/plain": [
       "             SAS     Python      Excel          R        SQL\n",
       "False  95.052083  92.447917  38.020833  96.006944  78.211806\n",
       "True    4.947917   7.552083  61.979167   3.993056  21.788194"
      ]
     },
     "execution_count": 30,
     "metadata": {},
     "output_type": "execute_result"
    }
   ],
   "source": [
    "percentage = pd.DataFrame()\n",
    "percentage['SAS'] = df_indicator['SAS'].value_counts(normalize=True) * 100 \n",
    "percentage['Python'] = df_indicator['python'].value_counts(normalize=True) * 100 \n",
    "percentage['Excel'] = df_indicator['excel'].value_counts(normalize=True) * 100 \n",
    "percentage['R'] = df_indicator['R'].value_counts(normalize=True) * 100 \n",
    "percentage['SQL'] = df_indicator['SQL'].value_counts(normalize=True) * 100 \n",
    "os.chdir(\"/Users/huilingchen/Documents/GitHub/indeed_web_scraper\")\n",
    "percentage.index = ['False', 'True'] \n",
    "percentage"
   ]
  },
  {
   "cell_type": "markdown",
   "metadata": {},
   "source": [
    "### 4.3. Transpose percentage table"
   ]
  },
  {
   "cell_type": "code",
   "execution_count": 31,
   "metadata": {},
   "outputs": [
    {
     "data": {
      "text/html": [
       "<div>\n",
       "<style scoped>\n",
       "    .dataframe tbody tr th:only-of-type {\n",
       "        vertical-align: middle;\n",
       "    }\n",
       "\n",
       "    .dataframe tbody tr th {\n",
       "        vertical-align: top;\n",
       "    }\n",
       "\n",
       "    .dataframe thead th {\n",
       "        text-align: right;\n",
       "    }\n",
       "</style>\n",
       "<table border=\"1\" class=\"dataframe\">\n",
       "  <thead>\n",
       "    <tr style=\"text-align: right;\">\n",
       "      <th></th>\n",
       "      <th>index</th>\n",
       "      <th>False</th>\n",
       "      <th>True</th>\n",
       "    </tr>\n",
       "  </thead>\n",
       "  <tbody>\n",
       "    <tr>\n",
       "      <th>2</th>\n",
       "      <td>Excel</td>\n",
       "      <td>38.020833</td>\n",
       "      <td>61.979167</td>\n",
       "    </tr>\n",
       "    <tr>\n",
       "      <th>4</th>\n",
       "      <td>SQL</td>\n",
       "      <td>78.211806</td>\n",
       "      <td>21.788194</td>\n",
       "    </tr>\n",
       "    <tr>\n",
       "      <th>1</th>\n",
       "      <td>Python</td>\n",
       "      <td>92.447917</td>\n",
       "      <td>7.552083</td>\n",
       "    </tr>\n",
       "    <tr>\n",
       "      <th>0</th>\n",
       "      <td>SAS</td>\n",
       "      <td>95.052083</td>\n",
       "      <td>4.947917</td>\n",
       "    </tr>\n",
       "    <tr>\n",
       "      <th>3</th>\n",
       "      <td>R</td>\n",
       "      <td>96.006944</td>\n",
       "      <td>3.993056</td>\n",
       "    </tr>\n",
       "  </tbody>\n",
       "</table>\n",
       "</div>"
      ],
      "text/plain": [
       "    index      False       True\n",
       "2   Excel  38.020833  61.979167\n",
       "4     SQL  78.211806  21.788194\n",
       "1  Python  92.447917   7.552083\n",
       "0     SAS  95.052083   4.947917\n",
       "3       R  96.006944   3.993056"
      ]
     },
     "execution_count": 31,
     "metadata": {},
     "output_type": "execute_result"
    }
   ],
   "source": [
    "transposed=percentage.T\n",
    "new_percentage=transposed.reset_index()\n",
    "new_percentage=new_percentage.sort_values(by=['True'], ascending=False)\n",
    "new_percentage\n",
    "#list(new_percentage.columns)"
   ]
  },
  {
   "cell_type": "markdown",
   "metadata": {},
   "source": [
    "### 4.4. Use barplot to show the result of tool usage"
   ]
  },
  {
   "cell_type": "code",
   "execution_count": 32,
   "metadata": {},
   "outputs": [
    {
     "data": {
      "image/png": "[encoded data removed]",
      "text/plain": [
       "<Figure size 432x288 with 1 Axes>"
      ]
     },
     "metadata": {
      "needs_background": "light"
     },
     "output_type": "display_data"
    }
   ],
   "source": [
    "import seaborn as sns\n",
    "import matplotlib.pyplot as plt\n",
    " \n",
    "sns.barplot(x = 'index', y = 'True', data = new_percentage)\n",
    "plt.xlabel(\"Skills\")\n",
    "plt.ylabel(\"Occurrence_Percentage\")\n",
    "plt.title(\"Skills that companies are looking for\")\n",
    "ax =plt.gca()\n",
    "for p in ax.patches:\n",
    "    ax.text(p.get_x() + p.get_width()/2, p.get_height(), '%d' % int(p.get_height()), fontsize=11, color='black', ha='center', va='bottom')\n"
   ]
  },
  {
   "cell_type": "markdown",
   "metadata": {},
   "source": [
    "### Observation:\n",
    "\n",
    "1. Excel is highly demanded skill for analyst jobs. \n",
    "2. Looks like R language usage for analyst jobs in Columbus area job market is not in high demand, its even lesser than SAS.\n",
    "3. This result is from keyword \"Analyst\" and \"Columbus\", when more narrow keyword applies the result could improve."
   ]
  },
  {
   "cell_type": "markdown",
   "metadata": {},
   "source": [
    "## 5. Evaluation"
   ]
  },
  {
   "cell_type": "markdown",
   "metadata": {},
   "source": [
    "### 5.1. Define a function to calculate the \"true\" percentage from a data set."
   ]
  },
  {
   "cell_type": "code",
   "execution_count": 33,
   "metadata": {},
   "outputs": [],
   "source": [
    "def get_percentage(data):\n",
    "    n = len(data)\n",
    "    res_t = 0\n",
    "    res_f = 0\n",
    "    for i in range(n):\n",
    "        if data[i]:\n",
    "            res_t += 1\n",
    "    return res_t/n"
   ]
  },
  {
   "cell_type": "code",
   "execution_count": 34,
   "metadata": {},
   "outputs": [
    {
     "data": {
      "text/plain": [
       "0.049479166666666664"
      ]
     },
     "execution_count": 34,
     "metadata": {},
     "output_type": "execute_result"
    }
   ],
   "source": [
    "# test get percentage\n",
    "get_percentage(df_indicator[\"SAS\"])"
   ]
  },
  {
   "cell_type": "markdown",
   "metadata": {},
   "source": [
    "### 5.2. Define a function to get bootstrap replicates"
   ]
  },
  {
   "cell_type": "code",
   "execution_count": 35,
   "metadata": {},
   "outputs": [],
   "source": [
    "def draw_bs_replicates(data, func, size):\n",
    "    bs_replicates = np.empty(size)\n",
    "    \n",
    "    for i in range(size):\n",
    "        bs_sample = np.random.choice(data, size=len(data))\n",
    "        bs_replicates[i] = func(bs_sample)\n",
    "    \n",
    "    return bs_replicates"
   ]
  },
  {
   "cell_type": "markdown",
   "metadata": {},
   "source": [
    "### 5.3. Make bootstrap replicates and calculate confidence interval"
   ]
  },
  {
   "cell_type": "code",
   "execution_count": 36,
   "metadata": {},
   "outputs": [],
   "source": [
    "bs_replicates = {}\n",
    "conf_interval = {}\n",
    "\n",
    "for col_name in df_indicator.columns.values:\n",
    "    bs_replicates[col_name] = draw_bs_replicates(df_indicator[col_name], get_percentage, 300)\n",
    "    conf_interval[col_name] = np.percentile(bs_replicates[col_name],[5,95])"
   ]
  },
  {
   "cell_type": "markdown",
   "metadata": {},
   "source": [
    "### 5.4. Show tool usage percentage error "
   ]
  },
  {
   "cell_type": "code",
   "execution_count": 37,
   "metadata": {},
   "outputs": [
    {
     "data": {
      "image/png": "[encoded data removed]",
      "text/plain": [
       "<Figure size 432x288 with 1 Axes>"
      ]
     },
     "metadata": {
      "needs_background": "light"
     },
     "output_type": "display_data"
    }
   ],
   "source": [
    "tools = ['Excel', 'SQL', 'Python', 'SAS', 'R']\n",
    "x_pos = np.arange(len(tools))\n",
    "means = [np.mean(bs_replicates[\"excel\"]),np.mean(bs_replicates[\"SQL\"]),np.mean(bs_replicates[\"python\"]),np.mean(bs_replicates[\"SAS\"]),np.mean(bs_replicates[\"R\"])]                                                                                                                                        \n",
    "error = [np.std(bs_replicates[\"excel\"]),np.std(bs_replicates[\"SQL\"]),np.std(bs_replicates[\"python\"]),np.std(bs_replicates[\"SAS\"]),np.std(bs_replicates[\"R\"])]\n",
    "\n",
    "# Build the plot\n",
    "fig, ax = plt.subplots()\n",
    "ax.bar(x_pos, means, yerr=error, align='center', alpha=0.5, ecolor='black', capsize=10)\n",
    "ax.set_ylabel('Occurrence_Percentage')\n",
    "ax.set_xticks(x_pos)\n",
    "ax.set_xticklabels(tools)\n",
    "ax.set_title('Percenatage error')\n",
    "ax.yaxis.grid(True)\n"
   ]
  },
  {
   "cell_type": "markdown",
   "metadata": {},
   "source": [
    "### 5.5. Calculate the metrics for each data set and plot the \"true\" percentage pdf."
   ]
  },
  {
   "cell_type": "code",
   "execution_count": 13,
   "metadata": {},
   "outputs": [
    {
     "data": {
      "image/png": "[encoded data removed]",
      "text/plain": [
       "<Figure size 432x288 with 1 Axes>"
      ]
     },
     "metadata": {
      "needs_background": "light"
     },
     "output_type": "display_data"
    },
    {
     "data": {
      "image/png": "[encoded data removed]",
      "text/plain": [
       "<Figure size 432x288 with 1 Axes>"
      ]
     },
     "metadata": {
      "needs_background": "light"
     },
     "output_type": "display_data"
    },
    {
     "data": {
      "image/png": "[encoded data removed]",
      "text/plain": [
       "<Figure size 432x288 with 1 Axes>"
      ]
     },
     "metadata": {
      "needs_background": "light"
     },
     "output_type": "display_data"
    },
    {
     "data": {
      "image/png": "[encoded data removed]",
      "text/plain": [
       "<Figure size 432x288 with 1 Axes>"
      ]
     },
     "metadata": {
      "needs_background": "light"
     },
     "output_type": "display_data"
    },
    {
     "data": {
      "image/png": "[encoded data removed]",
      "text/plain": [
       "<Figure size 432x288 with 1 Axes>"
      ]
     },
     "metadata": {
      "needs_background": "light"
     },
     "output_type": "display_data"
    }
   ],
   "source": [
    "for i in range(5):\n",
    "    plt.hist(bs_replicates[df_indicator.columns.values[i]])\n",
    "\n",
    "    plt.axvline(x=np.percentile(bs_replicates[df_indicator.columns.values[i]],[5]), ymin=0, ymax=1,label='5th percentile',c='y')\n",
    "    plt.axvline(x=np.percentile(bs_replicates[df_indicator.columns.values[i]],[95]), ymin=0, ymax=1,label='95th percentile',c='r')\n",
    "\n",
    "    plt.xlabel(df_indicator.columns.values[i] + \" accuracy\")\n",
    "    plt.show()"
   ]
  },
  {
   "cell_type": "markdown",
   "metadata": {},
   "source": [
    "### 5.5. Get the confidence interval"
   ]
  },
  {
   "cell_type": "code",
   "execution_count": 14,
   "metadata": {},
   "outputs": [
    {
     "data": {
      "text/plain": [
       "{'SAS': array([0.04079861, 0.06080729]),\n",
       " 'python': array([0.06423611, 0.08940972]),\n",
       " 'SQL': array([0.19613715, 0.23524306]),\n",
       " 'R': array([0.03125   , 0.04947917]),\n",
       " 'excel': array([0.59635417, 0.64322917])}"
      ]
     },
     "execution_count": 14,
     "metadata": {},
     "output_type": "execute_result"
    }
   ],
   "source": [
    "conf_interval"
   ]
  },
  {
   "cell_type": "markdown",
   "metadata": {},
   "source": [
    "## 6. Conclusion"
   ]
  },
  {
   "cell_type": "markdown",
   "metadata": {},
   "source": [
    "There is a high demand for Excel with analysts jobs. SQL is also in a relatively high demand but not as much as Excel. Python, SAS, and R have lower demand. As shown in result SAS have slightly but higher demand than R, this is a indicates SAS skill demand for businesses in Columbus area. I believe that the demand for SAS will keep existing for a certain time."
   ]
  }
 ],
 "metadata": {
  "kernelspec": {
   "display_name": "Python 3",
   "language": "python",
   "name": "python3"
  },
  "language_info": {
   "codemirror_mode": {
    "name": "ipython",
    "version": 3
   },
   "file_extension": ".py",
   "mimetype": "text/x-python",
   "name": "python",
   "nbconvert_exporter": "python",
   "pygments_lexer": "ipython3",
   "version": "3.8.3"
  }
 },
 "nbformat": 4,
 "nbformat_minor": 4
}
