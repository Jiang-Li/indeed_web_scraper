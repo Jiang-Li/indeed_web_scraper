{
 "cells": [
  {
   "cell_type": "markdown",
   "metadata": {},
   "source": [
    "# DATA SCIENCE SKILL DEMAND ANALYSIS\n",
    "\n",
    "## 1. Business understanding\n",
    "\n",
    "The purpose of this project is to create data-informed action plans to improve existing courses/programs. The goal for this reseach project is to better understand the current trend of analytics computing skills in the job market. "
   ]
  },
  {
   "cell_type": "markdown",
   "metadata": {},
   "source": [
    "## 2. Data Understanding\n",
    "\n",
    "This program searches \"Analyst\" job posting data within Columbus from Indeed website. In future, this program can also be used to analyze for other job titles from Indeed website for further usage.\n",
    "\n",
    "The skills we will practice throughout the research:\n",
    "- Data scrapping from Indeed website with keyword \"Analyst\" constrain\n",
    "- Data cleaning and analysis with pandas\n",
    "- Data visualization with matplotlib and seaborn\n",
    "- Result confidence interval with bootstrapping"
   ]
  },
  {
   "cell_type": "markdown",
   "metadata": {},
   "source": [
    "## 3. Data Preparation\n",
    "\n",
    "### 3.1. Web Scraping using Selenium\n",
    "\n",
    "A Web Scraper was built to pull all the relevant job information of \"analyst\" within the Columbus area from the job portal in Indeed.com. Pulled data indicates fields of Title, Company, Location, Link, Salary, Date, and Description. The scraper will automatically save its result to the feather file where its file name is the current date to the source folder. The scraper needs to run in every 15 days since the maximum result age is 15 days in Indeed for new job postings. These feather files in the source folder will then be used to analyze the trend of analytics computing skills. This program was built using selenium-python.\n"
   ]
  },
  {
   "cell_type": "code",
   "execution_count": 1,
   "metadata": {},
   "outputs": [
    {
     "data": {
      "text/plain": [
       "(171, 7)"
      ]
     },
     "execution_count": 1,
     "metadata": {},
     "output_type": "execute_result"
    }
   ],
   "source": [
    "import numpy as np\n",
    "import pandas as pd\n",
    "import math\n",
    "from datetime import datetime, timedelta\n",
    "import pickle\n",
    "import re\n",
    "\n",
    "# Show single source file size\n",
    "sample = pd.read_feather(\"/Users/huilingchen/Documents/GitHub/indeed_web_scraper/source/11_12_2020\")\n",
    "sample.shape"
   ]
  },
  {
   "cell_type": "markdown",
   "metadata": {},
   "source": [
    "### 3.2. Combine all feather file from source folder"
   ]
  },
  {
   "cell_type": "code",
   "execution_count": 2,
   "metadata": {},
   "outputs": [
    {
     "data": {
      "text/html": [
       "<div>\n",
       "<style scoped>\n",
       "    .dataframe tbody tr th:only-of-type {\n",
       "        vertical-align: middle;\n",
       "    }\n",
       "\n",
       "    .dataframe tbody tr th {\n",
       "        vertical-align: top;\n",
       "    }\n",
       "\n",
       "    .dataframe thead th {\n",
       "        text-align: right;\n",
       "    }\n",
       "</style>\n",
       "<table border=\"1\" class=\"dataframe\">\n",
       "  <thead>\n",
       "    <tr style=\"text-align: right;\">\n",
       "      <th></th>\n",
       "      <th>Title</th>\n",
       "      <th>Company</th>\n",
       "      <th>Location</th>\n",
       "      <th>Link</th>\n",
       "      <th>Salary</th>\n",
       "      <th>Date</th>\n",
       "      <th>Description</th>\n",
       "    </tr>\n",
       "  </thead>\n",
       "  <tbody>\n",
       "    <tr>\n",
       "      <th>1080</th>\n",
       "      <td>Sr. Business Analyst</td>\n",
       "      <td>Yashco Systems, Inc.</td>\n",
       "      <td>Hilliard, OH 43026</td>\n",
       "      <td>https://www.indeed.com/rc/clk?jk=4ad1929ff49f7...</td>\n",
       "      <td>$103,834 a year</td>\n",
       "      <td>08/30/2020 prior</td>\n",
       "      <td>Sr. Business Analyst (Multiple Positions with ...</td>\n",
       "    </tr>\n",
       "    <tr>\n",
       "      <th>1081</th>\n",
       "      <td>Sr Business Analyst (Zelle)</td>\n",
       "      <td>The Paragon Group</td>\n",
       "      <td>Columbus, OH 43230</td>\n",
       "      <td>https://www.indeed.com/rc/clk?jk=7352307aaa5da...</td>\n",
       "      <td>None</td>\n",
       "      <td>08/30/2020 prior</td>\n",
       "      <td>The Paragon Group is a Columbus, Ohio based In...</td>\n",
       "    </tr>\n",
       "    <tr>\n",
       "      <th>1082</th>\n",
       "      <td>Application Support Analyst</td>\n",
       "      <td>The Paragon Group</td>\n",
       "      <td>Columbus, OH 43230</td>\n",
       "      <td>https://www.indeed.com/rc/clk?jk=09dbfea9eb940...</td>\n",
       "      <td>None</td>\n",
       "      <td>08/30/2020 prior</td>\n",
       "      <td>The Paragon Group is a Columbus, Ohio based In...</td>\n",
       "    </tr>\n",
       "    <tr>\n",
       "      <th>1083</th>\n",
       "      <td>Business Systems Analyst, Salesforce</td>\n",
       "      <td>Veeva Systems</td>\n",
       "      <td>Columbus, OH 43220 (Sawmill Ravines area)</td>\n",
       "      <td>https://www.indeed.com/rc/clk?jk=2477e11410e99...</td>\n",
       "      <td>None</td>\n",
       "      <td>08/30/2020 prior</td>\n",
       "      <td>At Veeva, we build enterprise cloud technology...</td>\n",
       "    </tr>\n",
       "    <tr>\n",
       "      <th>1084</th>\n",
       "      <td>Cisco Network Infrastructure Analyst</td>\n",
       "      <td>Crossroads Technologies</td>\n",
       "      <td>Columbus, OH</td>\n",
       "      <td>https://www.indeed.com/rc/clk?jk=4c0d76714db1b...</td>\n",
       "      <td>None</td>\n",
       "      <td>08/30/2020 prior</td>\n",
       "      <td>We are currently seeking experienced technolog...</td>\n",
       "    </tr>\n",
       "  </tbody>\n",
       "</table>\n",
       "</div>"
      ],
      "text/plain": [
       "                                     Title                  Company  \\\n",
       "1080                  Sr. Business Analyst     Yashco Systems, Inc.   \n",
       "1081           Sr Business Analyst (Zelle)        The Paragon Group   \n",
       "1082           Application Support Analyst        The Paragon Group   \n",
       "1083  Business Systems Analyst, Salesforce            Veeva Systems   \n",
       "1084  Cisco Network Infrastructure Analyst  Crossroads Technologies   \n",
       "\n",
       "                                       Location  \\\n",
       "1080                         Hilliard, OH 43026   \n",
       "1081                         Columbus, OH 43230   \n",
       "1082                         Columbus, OH 43230   \n",
       "1083  Columbus, OH 43220 (Sawmill Ravines area)   \n",
       "1084                               Columbus, OH   \n",
       "\n",
       "                                                   Link           Salary  \\\n",
       "1080  https://www.indeed.com/rc/clk?jk=4ad1929ff49f7...  $103,834 a year   \n",
       "1081  https://www.indeed.com/rc/clk?jk=7352307aaa5da...             None   \n",
       "1082  https://www.indeed.com/rc/clk?jk=09dbfea9eb940...             None   \n",
       "1083  https://www.indeed.com/rc/clk?jk=2477e11410e99...             None   \n",
       "1084  https://www.indeed.com/rc/clk?jk=4c0d76714db1b...             None   \n",
       "\n",
       "                  Date                                        Description  \n",
       "1080  08/30/2020 prior  Sr. Business Analyst (Multiple Positions with ...  \n",
       "1081  08/30/2020 prior  The Paragon Group is a Columbus, Ohio based In...  \n",
       "1082  08/30/2020 prior  The Paragon Group is a Columbus, Ohio based In...  \n",
       "1083  08/30/2020 prior  At Veeva, we build enterprise cloud technology...  \n",
       "1084  08/30/2020 prior  We are currently seeking experienced technolog...  "
      ]
     },
     "execution_count": 2,
     "metadata": {},
     "output_type": "execute_result"
    }
   ],
   "source": [
    "import os\n",
    "import glob\n",
    "\n",
    "dir_name = \"/Users/huilingchen/Documents/GitHub/indeed_web_scraper/source\"\n",
    "os.chdir(dir_name)\n",
    "\n",
    "all_filenames = [i for i in glob.glob('*')]\n",
    "combined_source = pd.concat([pd.read_feather(f) for f in all_filenames], ignore_index=True)\n",
    "combined_source = combined_source[combined_source.Description != 'None']\n",
    "combined_source.tail(5)\n"
   ]
  },
  {
   "cell_type": "markdown",
   "metadata": {},
   "source": [
    "### 3.3. Handling duplicate data"
   ]
  },
  {
   "cell_type": "code",
   "execution_count": 3,
   "metadata": {},
   "outputs": [
    {
     "data": {
      "text/plain": [
       "(1004, 7)"
      ]
     },
     "execution_count": 3,
     "metadata": {},
     "output_type": "execute_result"
    }
   ],
   "source": [
    "# Remove duplicate rows\n",
    "combined_source = combined_source[combined_source.Description != 'None']\n",
    "combined_source=combined_source.drop_duplicates(subset=['Title', 'Company', 'Date'], keep='last')\n",
    "combined_source.shape"
   ]
  },
  {
   "cell_type": "markdown",
   "metadata": {},
   "source": [
    "## 4. Data Modeling\n",
    "\n",
    "### 4.1. Specify tool usage indicator"
   ]
  },
  {
   "cell_type": "code",
   "execution_count": 4,
   "metadata": {},
   "outputs": [
    {
     "data": {
      "text/html": [
       "<div>\n",
       "<style scoped>\n",
       "    .dataframe tbody tr th:only-of-type {\n",
       "        vertical-align: middle;\n",
       "    }\n",
       "\n",
       "    .dataframe tbody tr th {\n",
       "        vertical-align: top;\n",
       "    }\n",
       "\n",
       "    .dataframe thead th {\n",
       "        text-align: right;\n",
       "    }\n",
       "</style>\n",
       "<table border=\"1\" class=\"dataframe\">\n",
       "  <thead>\n",
       "    <tr style=\"text-align: right;\">\n",
       "      <th></th>\n",
       "      <th>SAS</th>\n",
       "      <th>python</th>\n",
       "      <th>SQL</th>\n",
       "      <th>R</th>\n",
       "      <th>excel</th>\n",
       "    </tr>\n",
       "  </thead>\n",
       "  <tbody>\n",
       "    <tr>\n",
       "      <th>0</th>\n",
       "      <td>False</td>\n",
       "      <td>False</td>\n",
       "      <td>True</td>\n",
       "      <td>False</td>\n",
       "      <td>True</td>\n",
       "    </tr>\n",
       "    <tr>\n",
       "      <th>1</th>\n",
       "      <td>False</td>\n",
       "      <td>False</td>\n",
       "      <td>True</td>\n",
       "      <td>False</td>\n",
       "      <td>True</td>\n",
       "    </tr>\n",
       "    <tr>\n",
       "      <th>2</th>\n",
       "      <td>False</td>\n",
       "      <td>False</td>\n",
       "      <td>False</td>\n",
       "      <td>False</td>\n",
       "      <td>True</td>\n",
       "    </tr>\n",
       "    <tr>\n",
       "      <th>3</th>\n",
       "      <td>False</td>\n",
       "      <td>False</td>\n",
       "      <td>False</td>\n",
       "      <td>False</td>\n",
       "      <td>True</td>\n",
       "    </tr>\n",
       "    <tr>\n",
       "      <th>4</th>\n",
       "      <td>False</td>\n",
       "      <td>False</td>\n",
       "      <td>False</td>\n",
       "      <td>False</td>\n",
       "      <td>True</td>\n",
       "    </tr>\n",
       "    <tr>\n",
       "      <th>...</th>\n",
       "      <td>...</td>\n",
       "      <td>...</td>\n",
       "      <td>...</td>\n",
       "      <td>...</td>\n",
       "      <td>...</td>\n",
       "    </tr>\n",
       "    <tr>\n",
       "      <th>999</th>\n",
       "      <td>False</td>\n",
       "      <td>False</td>\n",
       "      <td>False</td>\n",
       "      <td>False</td>\n",
       "      <td>False</td>\n",
       "    </tr>\n",
       "    <tr>\n",
       "      <th>1000</th>\n",
       "      <td>False</td>\n",
       "      <td>False</td>\n",
       "      <td>False</td>\n",
       "      <td>False</td>\n",
       "      <td>True</td>\n",
       "    </tr>\n",
       "    <tr>\n",
       "      <th>1001</th>\n",
       "      <td>False</td>\n",
       "      <td>False</td>\n",
       "      <td>True</td>\n",
       "      <td>False</td>\n",
       "      <td>True</td>\n",
       "    </tr>\n",
       "    <tr>\n",
       "      <th>1002</th>\n",
       "      <td>False</td>\n",
       "      <td>False</td>\n",
       "      <td>False</td>\n",
       "      <td>False</td>\n",
       "      <td>True</td>\n",
       "    </tr>\n",
       "    <tr>\n",
       "      <th>1003</th>\n",
       "      <td>False</td>\n",
       "      <td>False</td>\n",
       "      <td>False</td>\n",
       "      <td>False</td>\n",
       "      <td>True</td>\n",
       "    </tr>\n",
       "  </tbody>\n",
       "</table>\n",
       "<p>1004 rows × 5 columns</p>\n",
       "</div>"
      ],
      "text/plain": [
       "        SAS  python    SQL      R  excel\n",
       "0     False   False   True  False   True\n",
       "1     False   False   True  False   True\n",
       "2     False   False  False  False   True\n",
       "3     False   False  False  False   True\n",
       "4     False   False  False  False   True\n",
       "...     ...     ...    ...    ...    ...\n",
       "999   False   False  False  False  False\n",
       "1000  False   False  False  False   True\n",
       "1001  False   False   True  False   True\n",
       "1002  False   False  False  False   True\n",
       "1003  False   False  False  False   True\n",
       "\n",
       "[1004 rows x 5 columns]"
      ]
     },
     "execution_count": 4,
     "metadata": {},
     "output_type": "execute_result"
    }
   ],
   "source": [
    "df_indicator = pd.DataFrame()\n",
    "df_indicator['SAS'] = np.where(combined_source['Description'].str.contains('SAS'), True, False)\n",
    "df_indicator['python'] = np.where(combined_source['Description'].str.contains('python', flags=re.IGNORECASE),True, False)\n",
    "df_indicator['SQL'] = np.where(combined_source['Description'].str.contains('sql', flags=re.IGNORECASE),True, False)\n",
    "df_indicator['R'] = np.where(combined_source['Description'].str.contains(' R | R,|,R ', flags=re.IGNORECASE),True, False)\n",
    "df_indicator['excel'] = np.where(combined_source['Description'].str.contains('excel', flags=re.IGNORECASE),True, False)\n",
    "df_indicator"
   ]
  },
  {
   "cell_type": "markdown",
   "metadata": {},
   "source": [
    "### 4.2. Compose tool occurrence percentage table"
   ]
  },
  {
   "cell_type": "code",
   "execution_count": 5,
   "metadata": {},
   "outputs": [
    {
     "data": {
      "text/html": [
       "<div>\n",
       "<style scoped>\n",
       "    .dataframe tbody tr th:only-of-type {\n",
       "        vertical-align: middle;\n",
       "    }\n",
       "\n",
       "    .dataframe tbody tr th {\n",
       "        vertical-align: top;\n",
       "    }\n",
       "\n",
       "    .dataframe thead th {\n",
       "        text-align: right;\n",
       "    }\n",
       "</style>\n",
       "<table border=\"1\" class=\"dataframe\">\n",
       "  <thead>\n",
       "    <tr style=\"text-align: right;\">\n",
       "      <th></th>\n",
       "      <th>SAS</th>\n",
       "      <th>Python</th>\n",
       "      <th>Excel</th>\n",
       "      <th>R</th>\n",
       "      <th>SQL</th>\n",
       "    </tr>\n",
       "  </thead>\n",
       "  <tbody>\n",
       "    <tr>\n",
       "      <th>False</th>\n",
       "      <td>95.219124</td>\n",
       "      <td>92.629482</td>\n",
       "      <td>38.14741</td>\n",
       "      <td>96.513944</td>\n",
       "      <td>77.49004</td>\n",
       "    </tr>\n",
       "    <tr>\n",
       "      <th>True</th>\n",
       "      <td>4.780876</td>\n",
       "      <td>7.370518</td>\n",
       "      <td>61.85259</td>\n",
       "      <td>3.486056</td>\n",
       "      <td>22.50996</td>\n",
       "    </tr>\n",
       "  </tbody>\n",
       "</table>\n",
       "</div>"
      ],
      "text/plain": [
       "             SAS     Python     Excel          R       SQL\n",
       "False  95.219124  92.629482  38.14741  96.513944  77.49004\n",
       "True    4.780876   7.370518  61.85259   3.486056  22.50996"
      ]
     },
     "execution_count": 5,
     "metadata": {},
     "output_type": "execute_result"
    }
   ],
   "source": [
    "percentage = pd.DataFrame()\n",
    "percentage['SAS'] = df_indicator['SAS'].value_counts(normalize=True) * 100 \n",
    "percentage['Python'] = df_indicator['python'].value_counts(normalize=True) * 100 \n",
    "percentage['Excel'] = df_indicator['excel'].value_counts(normalize=True) * 100 \n",
    "percentage['R'] = df_indicator['R'].value_counts(normalize=True) * 100 \n",
    "percentage['SQL'] = df_indicator['SQL'].value_counts(normalize=True) * 100 \n",
    "os.chdir(\"/Users/huilingchen/Documents/GitHub/indeed_web_scraper\")\n",
    "percentage.index = ['False', 'True'] \n",
    "percentage"
   ]
  },
  {
   "cell_type": "markdown",
   "metadata": {},
   "source": [
    "### 4.3. Transpose percentage table"
   ]
  },
  {
   "cell_type": "code",
   "execution_count": 6,
   "metadata": {},
   "outputs": [
    {
     "data": {
      "text/html": [
       "<div>\n",
       "<style scoped>\n",
       "    .dataframe tbody tr th:only-of-type {\n",
       "        vertical-align: middle;\n",
       "    }\n",
       "\n",
       "    .dataframe tbody tr th {\n",
       "        vertical-align: top;\n",
       "    }\n",
       "\n",
       "    .dataframe thead th {\n",
       "        text-align: right;\n",
       "    }\n",
       "</style>\n",
       "<table border=\"1\" class=\"dataframe\">\n",
       "  <thead>\n",
       "    <tr style=\"text-align: right;\">\n",
       "      <th></th>\n",
       "      <th>index</th>\n",
       "      <th>False</th>\n",
       "      <th>True</th>\n",
       "    </tr>\n",
       "  </thead>\n",
       "  <tbody>\n",
       "    <tr>\n",
       "      <th>2</th>\n",
       "      <td>Excel</td>\n",
       "      <td>38.147410</td>\n",
       "      <td>61.852590</td>\n",
       "    </tr>\n",
       "    <tr>\n",
       "      <th>4</th>\n",
       "      <td>SQL</td>\n",
       "      <td>77.490040</td>\n",
       "      <td>22.509960</td>\n",
       "    </tr>\n",
       "    <tr>\n",
       "      <th>1</th>\n",
       "      <td>Python</td>\n",
       "      <td>92.629482</td>\n",
       "      <td>7.370518</td>\n",
       "    </tr>\n",
       "    <tr>\n",
       "      <th>0</th>\n",
       "      <td>SAS</td>\n",
       "      <td>95.219124</td>\n",
       "      <td>4.780876</td>\n",
       "    </tr>\n",
       "    <tr>\n",
       "      <th>3</th>\n",
       "      <td>R</td>\n",
       "      <td>96.513944</td>\n",
       "      <td>3.486056</td>\n",
       "    </tr>\n",
       "  </tbody>\n",
       "</table>\n",
       "</div>"
      ],
      "text/plain": [
       "    index      False       True\n",
       "2   Excel  38.147410  61.852590\n",
       "4     SQL  77.490040  22.509960\n",
       "1  Python  92.629482   7.370518\n",
       "0     SAS  95.219124   4.780876\n",
       "3       R  96.513944   3.486056"
      ]
     },
     "execution_count": 6,
     "metadata": {},
     "output_type": "execute_result"
    }
   ],
   "source": [
    "transposed=percentage.T\n",
    "new_percentage=transposed.reset_index()\n",
    "new_percentage=new_percentage.sort_values(by=['True'], ascending=False)\n",
    "new_percentage\n",
    "#list(new_percentage.columns)"
   ]
  },
  {
   "cell_type": "markdown",
   "metadata": {},
   "source": [
    "### 4.4. Use barplot to show the result of tool usage"
   ]
  },
  {
   "cell_type": "code",
   "execution_count": 7,
   "metadata": {},
   "outputs": [
    {
     "data": {
      "image/png": "[encoded data removed]",
      "text/plain": [
       "<Figure size 432x288 with 1 Axes>"
      ]
     },
     "metadata": {
      "needs_background": "light"
     },
     "output_type": "display_data"
    }
   ],
   "source": [
    "import seaborn as sns\n",
    "import matplotlib.pyplot as plt\n",
    " \n",
    "sns.barplot(x = 'index', y = 'True', data = new_percentage)\n",
    "plt.xlabel(\"Skills\")\n",
    "plt.ylabel(\"Occurrence_Percentage\")\n",
    "plt.title(\"Skills that companies are looking for\")\n",
    "ax =plt.gca()\n",
    "for p in ax.patches:\n",
    "    ax.text(p.get_x() + p.get_width()/2, p.get_height(), '%d' % int(p.get_height()), fontsize=11, color='black', ha='center', va='bottom')\n"
   ]
  },
  {
   "cell_type": "markdown",
   "metadata": {},
   "source": [
    "### Observation:\n",
    "\n",
    "1. Excel is highly demanded skill for analyst jobs. \n",
    "2. Looks like R language usage for analyst jobs in Columbus area job market is not in high demand, its even lesser than SAS.\n",
    "3. This result is from keyword \"Analyst\" and \"Columbus\", when more narrow keyword applies the result could improve."
   ]
  },
  {
   "cell_type": "markdown",
   "metadata": {},
   "source": [
    "## 5. Evaluation"
   ]
  },
  {
   "cell_type": "markdown",
   "metadata": {},
   "source": [
    "### 5.1. Define a function to calculate the \"true\" percentage from a data set."
   ]
  },
  {
   "cell_type": "code",
   "execution_count": 9,
   "metadata": {},
   "outputs": [],
   "source": [
    "def get_percentage(data):\n",
    "    n = len(data)\n",
    "    res_t = 0\n",
    "    res_f = 0\n",
    "    for i in range(n):\n",
    "        if data[i]:\n",
    "            res_t += 1\n",
    "    return res_t/n"
   ]
  },
  {
   "cell_type": "code",
   "execution_count": 10,
   "metadata": {},
   "outputs": [
    {
     "data": {
      "text/plain": [
       "0.04780876494023904"
      ]
     },
     "execution_count": 10,
     "metadata": {},
     "output_type": "execute_result"
    }
   ],
   "source": [
    "# test get percentage\n",
    "get_percentage(df_indicator[\"SAS\"])"
   ]
  },
  {
   "cell_type": "markdown",
   "metadata": {},
   "source": [
    "### 5.2. Define a function to get bootstrap replicates"
   ]
  },
  {
   "cell_type": "code",
   "execution_count": 11,
   "metadata": {},
   "outputs": [],
   "source": [
    "def draw_bs_replicates(data, func, size):\n",
    "    bs_replicates = np.empty(size)\n",
    "    \n",
    "    for i in range(size):\n",
    "        bs_sample = np.random.choice(data, size=len(data))\n",
    "        bs_replicates[i] = func(bs_sample)\n",
    "    \n",
    "    return bs_replicates"
   ]
  },
  {
   "cell_type": "markdown",
   "metadata": {},
   "source": [
    "### 5.3. Make bootstrap replicates and calculate confidence interval"
   ]
  },
  {
   "cell_type": "code",
   "execution_count": 14,
   "metadata": {},
   "outputs": [],
   "source": [
    "bs_replicates = {}\n",
    "conf_interval = {}\n",
    "\n",
    "for col_name in df_indicator.columns.values:\n",
    "    bs_replicates[col_name] = draw_bs_replicates(df_indicator[col_name], get_percentage, 300)\n",
    "    conf_interval[col_name] = np.percentile(bs_replicates[col_name],[5,95])"
   ]
  },
  {
   "cell_type": "markdown",
   "metadata": {},
   "source": [
    "### 5.4. Calculate the metrics for each data set and plot the \"true\" percentage pdf."
   ]
  },
  {
   "cell_type": "code",
   "execution_count": 15,
   "metadata": {},
   "outputs": [
    {
     "data": {
      "image/png": "[encoded data removed]",
      "text/plain": [
       "<Figure size 432x288 with 1 Axes>"
      ]
     },
     "metadata": {
      "needs_background": "light"
     },
     "output_type": "display_data"
    },
    {
     "data": {
      "image/png": "[encoded data removed]",
      "text/plain": [
       "<Figure size 432x288 with 1 Axes>"
      ]
     },
     "metadata": {
      "needs_background": "light"
     },
     "output_type": "display_data"
    },
    {
     "data": {
      "image/png": "[encoded data removed]",
      "text/plain": [
       "<Figure size 432x288 with 1 Axes>"
      ]
     },
     "metadata": {
      "needs_background": "light"
     },
     "output_type": "display_data"
    },
    {
     "data": {
      "image/png": "[encoded data removed]",
      "text/plain": [
       "<Figure size 432x288 with 1 Axes>"
      ]
     },
     "metadata": {
      "needs_background": "light"
     },
     "output_type": "display_data"
    },
    {
     "data": {
      "image/png": "[encoded data removed]",
      "text/plain": [
       "<Figure size 432x288 with 1 Axes>"
      ]
     },
     "metadata": {
      "needs_background": "light"
     },
     "output_type": "display_data"
    }
   ],
   "source": [
    "for i in range(5):\n",
    "    plt.hist(bs_replicates[df_indicator.columns.values[i]])\n",
    "\n",
    "    plt.axvline(x=np.percentile(bs_replicates[df_indicator.columns.values[i]],[5]), ymin=0, ymax=1,label='5th percentile',c='y')\n",
    "    plt.axvline(x=np.percentile(bs_replicates[df_indicator.columns.values[i]],[95]), ymin=0, ymax=1,label='95th percentile',c='r')\n",
    "\n",
    "    plt.xlabel(df_indicator.columns.values[i] + \" accuracy\")\n",
    "    plt.show()"
   ]
  },
  {
   "cell_type": "markdown",
   "metadata": {},
   "source": [
    "### 5.5. Get the confidence interval"
   ]
  },
  {
   "cell_type": "code",
   "execution_count": 16,
   "metadata": {},
   "outputs": [
    {
     "data": {
      "text/plain": [
       "{'SAS': array([0.03680279, 0.05776892]),\n",
       " 'python': array([0.05976096, 0.08670319]),\n",
       " 'SQL': array([0.20318725, 0.24501992]),\n",
       " 'R': array([0.02684263, 0.04482072]),\n",
       " 'excel': array([0.59257968, 0.64342629])}"
      ]
     },
     "execution_count": 16,
     "metadata": {},
     "output_type": "execute_result"
    }
   ],
   "source": [
    "conf_interval"
   ]
  },
  {
   "cell_type": "code",
   "execution_count": null,
   "metadata": {},
   "outputs": [],
   "source": []
  }
 ],
 "metadata": {
  "kernelspec": {
   "display_name": "Python 3",
   "language": "python",
   "name": "python3"
  },
  "language_info": {
   "codemirror_mode": {
    "name": "ipython",
    "version": 3
   },
   "file_extension": ".py",
   "mimetype": "text/x-python",
   "name": "python",
   "nbconvert_exporter": "python",
   "pygments_lexer": "ipython3",
   "version": "3.8.3"
  }
 },
 "nbformat": 4,
 "nbformat_minor": 4
}
