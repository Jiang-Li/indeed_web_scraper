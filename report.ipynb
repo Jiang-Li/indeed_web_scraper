{
 "cells": [
  {
   "cell_type": "code",
   "execution_count": 1,
   "metadata": {},
   "outputs": [],
   "source": [
    "import numpy as np\n",
    "import pandas as pd\n",
    "import math\n",
    "from datetime import datetime, timedelta\n",
    "import pickle\n",
    "import re"
   ]
  },
  {
   "cell_type": "code",
   "execution_count": 5,
   "metadata": {},
   "outputs": [
    {
     "data": {
      "text/html": [
       "<div>\n",
       "<style scoped>\n",
       "    .dataframe tbody tr th:only-of-type {\n",
       "        vertical-align: middle;\n",
       "    }\n",
       "\n",
       "    .dataframe tbody tr th {\n",
       "        vertical-align: top;\n",
       "    }\n",
       "\n",
       "    .dataframe thead th {\n",
       "        text-align: right;\n",
       "    }\n",
       "</style>\n",
       "<table border=\"1\" class=\"dataframe\">\n",
       "  <thead>\n",
       "    <tr style=\"text-align: right;\">\n",
       "      <th></th>\n",
       "      <th>Title</th>\n",
       "      <th>Company</th>\n",
       "      <th>Location</th>\n",
       "      <th>Link</th>\n",
       "      <th>Salary</th>\n",
       "      <th>Date</th>\n",
       "      <th>Description</th>\n",
       "    </tr>\n",
       "  </thead>\n",
       "  <tbody>\n",
       "    <tr>\n",
       "      <th>0</th>\n",
       "      <td>Identity and Access Management Support Analyst...</td>\n",
       "      <td>Solu Technology Partners</td>\n",
       "      <td>None</td>\n",
       "      <td>https://www.indeed.com/pagead/clk?mo=r&amp;ad=-6NY...</td>\n",
       "      <td>None</td>\n",
       "      <td>10/28/2020</td>\n",
       "      <td>Title: Identity and Access Management Support ...</td>\n",
       "    </tr>\n",
       "    <tr>\n",
       "      <th>1</th>\n",
       "      <td>Lawson/Infor Systems Analyst</td>\n",
       "      <td>Arch Staffing &amp; Consulting</td>\n",
       "      <td>None</td>\n",
       "      <td>https://www.indeed.com/pagead/clk?mo=r&amp;ad=-6NY...</td>\n",
       "      <td>$80,000 - $90,000 a year</td>\n",
       "      <td>10/28/2020</td>\n",
       "      <td>Location: Spokane WA (remote during COVID)\\nSa...</td>\n",
       "    </tr>\n",
       "    <tr>\n",
       "      <th>2</th>\n",
       "      <td>Forecast Analyst</td>\n",
       "      <td>Nexeo Plastics</td>\n",
       "      <td>Dublin, OH 43016</td>\n",
       "      <td>https://www.indeed.com/rc/clk?jk=af3b81fe16665...</td>\n",
       "      <td>None</td>\n",
       "      <td>10/28/2020</td>\n",
       "      <td>Date: Oct 28, 2020\\nLocation: Dublin, OH, US, ...</td>\n",
       "    </tr>\n",
       "    <tr>\n",
       "      <th>3</th>\n",
       "      <td>Production Support Analyst</td>\n",
       "      <td>Accenture</td>\n",
       "      <td>Columbus, OH</td>\n",
       "      <td>https://www.indeed.com/rc/clk?jk=a19089fc3d9a2...</td>\n",
       "      <td>None</td>\n",
       "      <td>10/28/2020</td>\n",
       "      <td>Accenture Flex offers you the flexibility of l...</td>\n",
       "    </tr>\n",
       "    <tr>\n",
       "      <th>4</th>\n",
       "      <td>Corrections Data Analyst II</td>\n",
       "      <td>JPMorgan Chase Bank, N.A.</td>\n",
       "      <td>Columbus, OH</td>\n",
       "      <td>https://www.indeed.com/rc/clk?jk=03a530d9989ff...</td>\n",
       "      <td>None</td>\n",
       "      <td>10/28/2020</td>\n",
       "      <td>Position Overview\\nCCB Remediation and Correct...</td>\n",
       "    </tr>\n",
       "  </tbody>\n",
       "</table>\n",
       "</div>"
      ],
      "text/plain": [
       "                                               Title  \\\n",
       "0  Identity and Access Management Support Analyst...   \n",
       "1                       Lawson/Infor Systems Analyst   \n",
       "2                                   Forecast Analyst   \n",
       "3                         Production Support Analyst   \n",
       "4                        Corrections Data Analyst II   \n",
       "\n",
       "                      Company          Location  \\\n",
       "0    Solu Technology Partners              None   \n",
       "1  Arch Staffing & Consulting              None   \n",
       "2              Nexeo Plastics  Dublin, OH 43016   \n",
       "3                   Accenture      Columbus, OH   \n",
       "4   JPMorgan Chase Bank, N.A.      Columbus, OH   \n",
       "\n",
       "                                                Link  \\\n",
       "0  https://www.indeed.com/pagead/clk?mo=r&ad=-6NY...   \n",
       "1  https://www.indeed.com/pagead/clk?mo=r&ad=-6NY...   \n",
       "2  https://www.indeed.com/rc/clk?jk=af3b81fe16665...   \n",
       "3  https://www.indeed.com/rc/clk?jk=a19089fc3d9a2...   \n",
       "4  https://www.indeed.com/rc/clk?jk=03a530d9989ff...   \n",
       "\n",
       "                     Salary        Date  \\\n",
       "0                      None  10/28/2020   \n",
       "1  $80,000 - $90,000 a year  10/28/2020   \n",
       "2                      None  10/28/2020   \n",
       "3                      None  10/28/2020   \n",
       "4                      None  10/28/2020   \n",
       "\n",
       "                                         Description  \n",
       "0  Title: Identity and Access Management Support ...  \n",
       "1  Location: Spokane WA (remote during COVID)\\nSa...  \n",
       "2  Date: Oct 28, 2020\\nLocation: Dublin, OH, US, ...  \n",
       "3  Accenture Flex offers you the flexibility of l...  \n",
       "4  Position Overview\\nCCB Remediation and Correct...  "
      ]
     },
     "execution_count": 5,
     "metadata": {},
     "output_type": "execute_result"
    }
   ],
   "source": [
    "c = pd.DataFrame()\n",
    "c = pd.read_feather(\"/Users/huilingchen/Documents/GitHub/indeed_web_scraper/source/10_28_2020\")\n",
    "c.head()"
   ]
  },
  {
   "cell_type": "code",
   "execution_count": 6,
   "metadata": {},
   "outputs": [],
   "source": [
    "import os"
   ]
  },
  {
   "cell_type": "code",
   "execution_count": 7,
   "metadata": {},
   "outputs": [
    {
     "data": {
      "text/plain": [
       "5"
      ]
     },
     "execution_count": 7,
     "metadata": {},
     "output_type": "execute_result"
    }
   ],
   "source": [
    "list = os.listdir(\"/Users/huilingchen/Documents/GitHub/indeed_web_scraper/source\") # dir is your directory path\n",
    "number_files = len(list)\n",
    "number_files"
   ]
  },
  {
   "cell_type": "code",
   "execution_count": null,
   "metadata": {},
   "outputs": [],
   "source": []
  }
 ],
 "metadata": {
  "kernelspec": {
   "display_name": "Python 3",
   "language": "python",
   "name": "python3"
  },
  "language_info": {
   "codemirror_mode": {
    "name": "ipython",
    "version": 3
   },
   "file_extension": ".py",
   "mimetype": "text/x-python",
   "name": "python",
   "nbconvert_exporter": "python",
   "pygments_lexer": "ipython3",
   "version": "3.8.3"
  }
 },
 "nbformat": 4,
 "nbformat_minor": 4
}
