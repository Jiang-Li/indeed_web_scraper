{
 "cells": [
  {
   "cell_type": "code",
   "execution_count": null,
   "metadata": {},
   "outputs": [],
   "source": [
    "from selenium.webdriver.common.by import By\n",
    "from selenium import webdriver\n",
    "from selenium.webdriver.common.keys import Keys\n",
    "from selenium.webdriver.support.ui import WebDriverWait\n",
    "from selenium.webdriver.support import expected_conditions as EC\n",
    "import numpy as np\n",
    "import pandas as pd\n",
    "import math\n",
    "from datetime import datetime, timedelta\n",
    "\n",
    "driver = webdriver.Chrome(executable_path='./chromedriver')\n",
    "\n",
    "driver.get(\"https://www.indeed.com/advanced_search\")\n",
    "\n",
    "driver.implicitly_wait(3)\n",
    "\n",
    "# search analyst\n",
    "search_job = driver.find_element_by_xpath('//input[@id=\"as_and\"]')\n",
    "search_job.send_keys(['Analyst'])\n",
    "\n",
    "# search location\n",
    "searchLocation = driver.find_element_by_xpath('//input[@id=\"where\"]')\n",
    "searchLocation.clear()\n",
    "searchLocation.send_keys(\"united states\")\n",
    "# searchLocation.send_keys(\"ohio\")\n",
    "\n",
    "# set display limit of 50 results per page\n",
    "display_limit = driver.find_element_by_xpath(\n",
    "    '//select[@id=\"limit\"]//option[@value=\"50\"]')\n",
    "display_limit.click()\n",
    "driver.implicitly_wait(3)\n",
    "\n",
    "# sort display with date\n",
    "display_sort = driver.find_element_by_xpath(\n",
    "    '//select[@id=\"sort\"]//option[@value=\"date\"]')\n",
    "display_sort.click()\n",
    "driver.implicitly_wait(3)\n",
    "\n",
    "# limited to 1 day\n",
    "result_age = driver.find_element_by_xpath(\n",
    "    '//select[@id=\"fromage\"]//option[@value=\"1\"]')\n",
    "result_age.click()\n",
    "\n",
    "# location\n",
    "result_age = driver.find_element_by_xpath(\n",
    "    '//select[@id=\"radius\"]//option[@value=\"0\"]')\n",
    "result_age.click()\n",
    "\n",
    "driver.implicitly_wait(3)\n",
    "\n",
    "# push search button\n",
    "search_button = driver.find_element_by_xpath('//*[@id=\"fj\"]')\n",
    "search_button.click()\n",
    "driver.implicitly_wait(3)\n",
    "\n",
    "# Get exact search result amount\n",
    "search_count = driver.find_element_by_xpath('//div[@id=\"searchCount\"]').text\n",
    "\n",
    "def sub_str(s, start, end):\n",
    "    return s[s.find(start)+len(start):s.rfind(end)]\n",
    "num = sub_str(search_count, \"of \", \" jobs\")\n",
    "pages = math.ceil(int(num.replace(',', ''))/50)"
   ]
  },
  {
   "cell_type": "code",
   "execution_count": 57,
   "metadata": {},
   "outputs": [
    {
     "name": "stdout",
     "output_type": "stream",
     "text": [
      "01_11_2021\n",
      "total pages:  43\n"
     ]
    }
   ],
   "source": [
    "print(datetime.now().strftime(\"%m_%d_%Y\"))\n",
    "print(\"total pages: \", pages)"
   ]
  },
  {
   "cell_type": "code",
   "execution_count": 48,
   "metadata": {},
   "outputs": [
    {
     "name": "stdout",
     "output_type": "stream",
     "text": [
      "Finish the page: 1.\n",
      "Finish the page: 2.\n",
      "Finish the page: 3.\n",
      "Finish the page: 4.\n",
      "Finish the page: 5.\n",
      "Finish the page: 6.\n",
      "Finish the page: 7.\n",
      "Finish the page: 8.\n",
      "Finish the page: 9.\n",
      "Finish the page: 10.\n",
      "Finish the page: 11.\n",
      "Finish the page: 12.\n",
      "Finish the page: 13.\n",
      "Finish the page: 14.\n",
      "Finish the page: 15.\n",
      "Finish the page: 16.\n",
      "Finish the page: 17.\n",
      "Finish the page: 18.\n",
      "Finish the page: 19.\n",
      "Finish the page: 20.\n",
      "Finish the page: 21.\n",
      "Finish the page: 22.\n",
      "Finish the page: 23.\n",
      "Finish the page: 24.\n",
      "Finish the page: 25.\n",
      "Finish the page: 26.\n",
      "Finish the page: 27.\n",
      "Finish the page: 28.\n",
      "Finish the page: 29.\n",
      "Finish the page: 30.\n",
      "Finish the page: 31.\n",
      "Finish the page: 32.\n",
      "Finish the page: 33.\n",
      "Finish the page: 34.\n",
      "Finish the page: 35.\n",
      "Finish the page: 36.\n",
      "Finish the page: 37.\n",
      "Finish the page: 38.\n",
      "Finish the page: 39.\n",
      "Finish the page: 40.\n",
      "Finish the page: 41.\n",
      "Finish the page: 42.\n",
      "Finish the page: 43.\n",
      "CPU times: user 2.33 s, sys: 136 ms, total: 2.46 s\n",
      "Wall time: 1min 2s\n"
     ]
    }
   ],
   "source": [
    "%%time\n",
    "\n",
    "links = []\n",
    "dates = []\n",
    "\n",
    "for i in range(0, pages):\n",
    "\n",
    "    job_card = driver.find_elements_by_xpath(\n",
    "        '//div[contains(@class,\"clickcard\")]')\n",
    "    \n",
    "    for job in job_card:\n",
    "        \n",
    "        date = datetime.now().strftime(\"%m/%d/%Y\")\n",
    "        dates.append(date)\n",
    "\n",
    "        links.append(job.find_element_by_xpath(\n",
    "            './/h2[@class=\"title\"]//a').get_attribute(name=\"href\"))\n",
    "        \n",
    "\n",
    "    print(\"Finish the page: {}.\".format(str(i+1)))\n",
    "    driver.implicitly_wait(3)\n",
    "    next_page = driver.find_elements_by_xpath(\"//span[@class='pn']\")[-1]\n",
    "    driver.execute_script(\"arguments[0].click();\", next_page)"
   ]
  },
  {
   "cell_type": "markdown",
   "metadata": {},
   "source": [
    "need some code to pull html based on url; give time dealy.\n",
    "\n",
    "<!-- # %%time\n",
    "# # Despcriptions\n",
    "# for link in links:\n",
    "#     try:\n",
    "#         driver.get(link)\n",
    "#         jd = driver.find_element_by_xpath(\n",
    "#             '//div[@id=\"jobDescriptionText\"]').text\n",
    "#     except:\n",
    "#         jd = \"None\"\n",
    "\n",
    "#     descriptions.append(jd) -->"
   ]
  },
  {
   "cell_type": "code",
   "execution_count": null,
   "metadata": {},
   "outputs": [],
   "source": []
  },
  {
   "cell_type": "code",
   "execution_count": 53,
   "metadata": {},
   "outputs": [],
   "source": [
    "df = pd.DataFrame()\n",
    "df['Date'] = dates\n",
    "df['Link'] = links"
   ]
  },
  {
   "cell_type": "code",
   "execution_count": 54,
   "metadata": {},
   "outputs": [
    {
     "data": {
      "text/html": [
       "<div>\n",
       "<style scoped>\n",
       "    .dataframe tbody tr th:only-of-type {\n",
       "        vertical-align: middle;\n",
       "    }\n",
       "\n",
       "    .dataframe tbody tr th {\n",
       "        vertical-align: top;\n",
       "    }\n",
       "\n",
       "    .dataframe thead th {\n",
       "        text-align: right;\n",
       "    }\n",
       "</style>\n",
       "<table border=\"1\" class=\"dataframe\">\n",
       "  <thead>\n",
       "    <tr style=\"text-align: right;\">\n",
       "      <th></th>\n",
       "      <th>Date</th>\n",
       "      <th>Link</th>\n",
       "    </tr>\n",
       "  </thead>\n",
       "  <tbody>\n",
       "    <tr>\n",
       "      <th>0</th>\n",
       "      <td>01/11/2021</td>\n",
       "      <td>https://www.indeed.com/pagead/clk?mo=r&amp;ad=-6NY...</td>\n",
       "    </tr>\n",
       "    <tr>\n",
       "      <th>1</th>\n",
       "      <td>01/11/2021</td>\n",
       "      <td>https://www.indeed.com/pagead/clk?mo=r&amp;ad=-6NY...</td>\n",
       "    </tr>\n",
       "    <tr>\n",
       "      <th>2</th>\n",
       "      <td>01/11/2021</td>\n",
       "      <td>https://www.indeed.com/pagead/clk?mo=r&amp;ad=-6NY...</td>\n",
       "    </tr>\n",
       "    <tr>\n",
       "      <th>3</th>\n",
       "      <td>01/11/2021</td>\n",
       "      <td>https://www.indeed.com/pagead/clk?mo=r&amp;ad=-6NY...</td>\n",
       "    </tr>\n",
       "    <tr>\n",
       "      <th>4</th>\n",
       "      <td>01/11/2021</td>\n",
       "      <td>https://www.indeed.com/pagead/clk?mo=r&amp;ad=-6NY...</td>\n",
       "    </tr>\n",
       "  </tbody>\n",
       "</table>\n",
       "</div>"
      ],
      "text/plain": [
       "         Date                                               Link\n",
       "0  01/11/2021  https://www.indeed.com/pagead/clk?mo=r&ad=-6NY...\n",
       "1  01/11/2021  https://www.indeed.com/pagead/clk?mo=r&ad=-6NY...\n",
       "2  01/11/2021  https://www.indeed.com/pagead/clk?mo=r&ad=-6NY...\n",
       "3  01/11/2021  https://www.indeed.com/pagead/clk?mo=r&ad=-6NY...\n",
       "4  01/11/2021  https://www.indeed.com/pagead/clk?mo=r&ad=-6NY..."
      ]
     },
     "execution_count": 54,
     "metadata": {},
     "output_type": "execute_result"
    }
   ],
   "source": [
    "df.head()"
   ]
  },
  {
   "cell_type": "code",
   "execution_count": 58,
   "metadata": {},
   "outputs": [],
   "source": [
    "# save to feather file\n",
    "filename = datetime.now().strftime(\"Post_URL_\"+\"%m_%d_%Y\")\n",
    "df.to_feather(\"./source/\"+filename)"
   ]
  },
  {
   "cell_type": "code",
   "execution_count": null,
   "metadata": {},
   "outputs": [],
   "source": []
  }
 ],
 "metadata": {
  "kernelspec": {
   "display_name": "Python 3",
   "language": "python",
   "name": "python3"
  },
  "language_info": {
   "codemirror_mode": {
    "name": "ipython",
    "version": 3
   },
   "file_extension": ".py",
   "mimetype": "text/x-python",
   "name": "python",
   "nbconvert_exporter": "python",
   "pygments_lexer": "ipython3",
   "version": "3.8.5"
  }
 },
 "nbformat": 4,
 "nbformat_minor": 4
}
